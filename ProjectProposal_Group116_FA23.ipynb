{
 "cells": [
  {
   "cell_type": "markdown",
   "metadata": {},
   "source": [
    "# COGS 108 - Project Proposal"
   ]
  },
  {
   "cell_type": "markdown",
   "metadata": {},
   "source": [
    "# Names\n",
    "\n",
    "- Kavin Raj\n",
    "- Arnav Saxena\n",
    "- Tiantong Wu\n",
    "- Peike Xu\n",
    "- Jing Yin Yip"
   ]
  },
  {
   "cell_type": "markdown",
   "metadata": {},
   "source": [
    "# Research Question"
   ]
  },
  {
   "cell_type": "markdown",
   "metadata": {},
   "source": [
    "How do opinionated tweets on Twitter as measured by a sentiment analysis model affect the Stock Prices of Tech firms?\n"
   ]
  },
  {
   "cell_type": "markdown",
   "metadata": {},
   "source": [
    "## Background and Prior Work"
   ]
  },
  {
   "cell_type": "markdown",
   "metadata": {},
   "source": [
    "Twitter is a widely used social media platform for expressing many kinds of opinions, including those on certain companies. We believe that this may have an impact on the public perception of these companies, and we aim to investigate whether there is a connection between these opinions and the actual stock prices of the companies in question. We have seen this back in 2021, when “a thread on r/WallStreetBets” have caused “more than 7,200% increase in GME—and a 689% run”<a name=\"cite_note-1\"></a> <sup>[<a href=\"#cite_ref-1\">1</a>]</sup> . We think this effect on GameStop has a much greater impact than that.  We are interested in seeing if this is a much bigger phenomenon than currently seen.\n",
    "\n",
    "When reading a research paper from the IOP conference series, we found a sentiment analysis model based on social media opinion on stock trading. It was remarked in the conclusion that “looking into correlation coefficient compared by number of days before and after the trading day, the result shows that correlation reaches to the peak on trading day then it gradually declines with the magnitude depending on the day length after trading day.” <a name=\"cite_note-2\"></a> <sup>[<a href=\"#cite_ref-2\">2</a>]</sup> This test was conducted on a Thai social media platform called Pantip when discussing ten Thai companies. We were interested to see if there was also a correlation similar to this with big tech companies and twitter.\n",
    "\n",
    "1. <a name=\"cite_note-1\"></a> <sup>[<a href=\"#cite_ref-1\">1</a>]</sup> Rechel, J. (28 Jan 2021) How social media moves markets: Analyzing GameStop (GME) using social listening data. Sprout Blog.\n",
    "<br> https://sproutsocial.com/insights/gamestop-stock-social-media\n",
    "2. <a name=\"cite_note-2\"></a> <sup>[<a href=\"#cite_ref-2\">2</a>]</sup>  P Padhanarath et al 2019 IOP Conf. Ser.: Mater. Sci. Eng. 620 012094.\n",
    "   <br>https://iopscience.iop.org/article/10.1088/1757-899X/620/1/012094/pdf\n"
   ]
  },
  {
   "cell_type": "markdown",
   "metadata": {},
   "source": [
    "# Hypothesis\n"
   ]
  },
  {
   "cell_type": "markdown",
   "metadata": {},
   "source": [
    "Before answering our research question by investigating the available data, we think that there will be a positive correlation between a positive sentiment for a company and said company’s stock prices rising, as well as a positive correlation between a negative sentiment for a company and said company’s stock prices falling. This is due to the connection between a company’s public perception, how that is reflected in social media, and how it manifests in the stock market. If tweets about a company are mostly negative within a certain time period, we would expect to observe a decrease in stock prices, as both phenomena correspond to a decrease in public perception of the company. However, we also acknowledge that this relationship may not be as straightforward as is stated here, as there may be other confounds affecting each variable, such as Twitter only capturing the sentiment of a more vocal sample of people as compared to the rest of the population."
   ]
  },
  {
   "cell_type": "markdown",
   "metadata": {},
   "source": [
    "# Data"
   ]
  },
  {
   "cell_type": "markdown",
   "metadata": {},
   "source": [
    "In order to answer this question, we need data from mainly two different branches.\n",
    "1. Historical Stock Price Data:\n",
    "   - Ideally find daily stock prices data that can - display the stock’s changing trend in an individual day, for at least a couple of months.\n",
    "   - Tech related firms’ stock prices around the same period so that we can compare the stock performance for a particular company.\n",
    "\n",
    "   - Dataset Name: Corruption Perception Indices\n",
    "   - Link to the dataset: https://www.nasdaq.com/market-activity/stocks/aapl/historical\n",
    "   - Number of observations: >= 1000\n",
    "   The data sets containing stock price related to tech firms, including the open, end, high, and low price information up to 5 years. It can be downloaded as cvs form to use. Although the data doesn't distinguish between morning and afternoon trends, it still provides sufficient information to depict the daily trend.\n",
    "2. Twitter data:\n",
    "   - Ideally a comprehensive dataset of tweets that mention the selected tech firms or under tech firms’ topics.\n",
    "  \n",
    "   - Data set should include the user ID(or not), timestamp, and tweet text.\n",
    "  \n",
    "   - The both datasets should be large, clean, and cover a significant time frame to capture diverse market trends and conditions, helping increase reliability of our findings. The Twitter data should transform to sentiment scores between [-1,1], through tools such as polyglot. We will need to combine the above datasets into the final dataset we want to study based on the time.\n",
    "   \n",
    "Potentially need data: macroeconomic data related to certain period. So that we can get ride of some effects from external factors.\n"
   ]
  },
  {
   "cell_type": "markdown",
   "metadata": {},
   "source": [
    "# Ethics & Privacy"
   ]
  },
  {
   "cell_type": "markdown",
   "metadata": {},
   "source": [
    "In our project, there exist several ethical and privacy concerns. First of all, to collect users' twitter posts might be a violation of privacy. Although Twitter posts are publicly posted, people might not want to have their posts be a part of a project or an experiment. Thus, we planned to handle this privacy issue by anonymizing all data from the users. In addition, there exists a potential bias that it is hard to judge a human written post as simply positive or negative. Some posts might contain emotions that are complex. People might be confused about the trend of a stock's price, or hard to determine whether they are clearly for or clearly against a change in the stock prices. Also, we should be able to accurately interpret the information contained in a twitter post. To handle this issue, we must present our findings as transparently as possible. Also, since our data set is relatively large(there are thousands of twitter posts), we could clearly identify the ones who are less complex or have clear stances, and analyze the correlation between those posts and the stock prices.\n",
    "\n",
    "One of the concerns is that our data rely heavily on the language sentiment analyzing modeling. It's important to use these models with caution, be aware of their potential shortcomings, and complement them with human judgment and context whenever possible to ensure the most accurate and reliable analysis of sentiment in your data. Also, the words defined for negative in a stock situation might be different with general sentiment analysis. We can try out several analyzing models and compare results between different models, finding the most accurate modeling. \n",
    "\n"
   ]
  },
  {
   "cell_type": "markdown",
   "metadata": {},
   "source": [
    "# Team Expectations "
   ]
  },
  {
   "cell_type": "markdown",
   "metadata": {},
   "source": [
    "\n",
    "- Keeping up with the project work in a timely manner with everyone providing similar effort to the project\n",
    "- Having an open communication with everyone with any conflicts and issues to proceed with the project smoothly. \n"
   ]
  },
  {
   "cell_type": "markdown",
   "metadata": {},
   "source": [
    "# Project Timeline Proposal"
   ]
  },
  {
   "cell_type": "markdown",
   "metadata": {},
   "source": [
    "Specify your team's specific project timeline. An example timeline has been provided. Changes the dates, times, names, and details to fit your group's plan.\n",
    "\n",
    "If you think you will need any special resources or training outside what we have covered in COGS 108 to solve your problem, then your proposal should state these clearly. For example, if you have selected a problem that involves implementing multiple neural networks, please state this so we can make sure you know what you’re doing and so we can point you to resources you will need to implement your project. Note that you are not required to use outside methods.\n",
    "\n",
    "\n",
    "\n",
    "| Meeting Date  | Meeting Time| Completed Before Meeting  | Discuss at Meeting |\n",
    "|---|---|---|---|\n",
    "| 11/5  |  1 PM | Proposal  | Collect Datasets, Assign EDA Tasks | \n",
    "| 11/12  |  1 PM |  Collection of Raw Data; Data cleaning | Completing Checkpoint 1 | \n",
    "| 11/19  | 1 PM | Completed Raw Data Collection  | Start EDA |\n",
    "| 11/26  | 1 PM | Finishing up EDA, starting analysis | Completing Checkpoint 2 |\n",
    "| 12/3  | 1 PM  | Draft the report, discussion results | Start Final Project Report |\n",
    "| 12/10 | 1 PM  | Finalize Project |Prepare for the final presentation |"
   ]
  }
 ],
 "metadata": {
  "kernelspec": {
   "display_name": "Python 3.9.10 ('base')",
   "language": "python",
   "name": "python3"
  },
  "language_info": {
   "codemirror_mode": {
    "name": "ipython",
    "version": 3
   },
   "file_extension": ".py",
   "mimetype": "text/x-python",
   "name": "python",
   "nbconvert_exporter": "python",
   "pygments_lexer": "ipython3",
   "version": "3.9.10"
  },
  "vscode": {
   "interpreter": {
    "hash": "9affbb8bc18c5ef2b2431faaa24501abcc4b7673a26f0b85ab1f1f192de11067"
   }
  }
 },
 "nbformat": 4,
 "nbformat_minor": 2
}
