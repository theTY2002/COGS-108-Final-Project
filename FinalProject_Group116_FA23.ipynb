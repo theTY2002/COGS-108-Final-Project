{
 "cells": [
  {
   "cell_type": "markdown",
   "metadata": {},
   "source": [
    "# COGS 108 - Final Project (change this to your project's title)\n",
    "\n",
    "# Permissions\n",
    "\n",
    "Place an `X` in the appropriate bracket below to specify if you would like your group's project to be made available to the public. (Note that student names will be included (but PIDs will be scraped from any groups who include their PIDs).\n",
    "\n",
    "* [  ] YES - make available\n",
    "* [  ] NO - keep private\n",
    "\n",
    "# Names\n",
    "\n",
    "- Kavin Raj\n",
    "- Arnav Saxena\n",
    "- Tiantong Wu\n",
    "- Peike Xu\n",
    "- Jing Yin Yip\n",
    "\n",
    "# Abstract\n",
    "\n",
    "Please write one to four paragraphs that describe a very brief overview of why you did this, how you did, and the major findings and conclusions."
   ]
  },
  {
   "cell_type": "markdown",
   "metadata": {},
   "source": [
    "# Research Question"
   ]
  },
  {
   "cell_type": "markdown",
   "metadata": {},
   "source": [
    "-  Include a specific, clear data science question.\n",
    "-  Make sure what you're measuring (variables) to answer the question is clear\n",
    "\n",
    "What is your research question? Include the specific question you're setting out to answer. This question should be specific, answerable with data, and clear. A general question with specific subquestions is permitted. (1-2 sentences)\n",
    "\n",
    "How do opinionated tweets on Twitter as measured by a sentiment analysis model affect the stock prices of major tech companies, such as Apple, Amazon, Google, and Tesla within the time period of **(insert new time period here)**?"
   ]
  },
  {
   "cell_type": "markdown",
   "metadata": {},
   "source": [
    "## Background and Prior Work"
   ]
  },
  {
   "cell_type": "markdown",
   "metadata": {},
   "source": [
    "\n",
    "- Include a general introduction to your topic\n",
    "- Include explanation of what work has been done previously\n",
    "- Include citations or links to previous work\n",
    "\n",
    "This section will present the background and context of your topic and question in a few paragraphs. Include a general introduction to your topic and then describe what information you currently know about the topic after doing your initial research. Include references to other projects who have asked similar questions or approached similar problems. Explain what others have learned in their projects.\n",
    "\n",
    "Find some relevant prior work, and reference those sources, summarizing what each did and what they learned. Even if you think you have a totally novel question, find the most similar prior work that you can and discuss how it relates to your project.\n",
    "\n",
    "References can be research publications, but they need not be. Blogs, GitHub repositories, company websites, etc., are all viable references if they are relevant to your project. It must be clear which information comes from which references. (2-3 paragraphs, including at least 2 references)\n",
    "\n",
    "**(Below is what we wrote before, but the group that created the new dataset also has another paper that could be incorporated into here: https://www.kaggle.com/datasets/omermetinn/tweets-about-the-top-companies-from-2015-to-2020/versions/1?resource=download)**\n",
    "\n",
    "Twitter is a widely used social media platform for expressing many kinds of opinions, including those on certain companies. We believe that this may have an impact on the public perception of these companies, and we aim to investigate whether there is a connection between opinions expressed in social media and the actual stock prices of the companies in question. An example of was seen this back in 2021, when “a thread on r/WallStreetBets”  caused “more than 7,200% increase in GME—and a 689% run”<a name=\"cite_note-1\"></a> <sup>[<a href=\"#cite_ref-1\">1</a>]</sup> . This occurence informed us that there is a potential causal effect between opinions on social media and real-world stock prices; we think that this effect has a much greater scope than just this isolated case of GameStop stocks, and we are interested in seeing if this is a larger, more general phenomenon that can be applied to other time periods and companies.\n",
    "\n",
    "When reading a research paper from the IOP conference series, we found a sentiment analysis model based on social media opinion on stock trading. It was remarked in the conclusion that “looking into correlation coefficient compared by number of days before and after the trading day, the result shows that correlation reaches to the peak on trading day then it gradually declines with the magnitude depending on the day length after trading day.” <a name=\"cite_note-2\"></a> <sup>[<a href=\"#cite_ref-2\">2</a>]</sup> This research is similar to what we aim to investigate, as the paper conducted their test on a Thai social media platform called Pantip, and discussed ten Thai companies. The paper provides more evidence that there is a causal link between social media sentiment and stock prices, and we are interested to see if a similar trend can be seen with tweets and tech companies' stocks in the US. Additionally, we would also like to investigate if there are other similarities or differences in the trends that we are able to identify between our research and the paper, such as the correlation between variables reaching a peak on trading day.\n",
    "\n",
    "1. <a name=\"cite_note-1\"></a> <sup>[<a href=\"#cite_ref-1\">1</a>]</sup> Rechel, J. (28 Jan 2021) How social media moves markets: Analyzing GameStop (GME) using social listening data. Sprout Blog.\n",
    "   <br> https://sproutsocial.com/insights/gamestop-stock-social-media\n",
    "\n",
    "2. <a name=\"cite_note-2\"></a> <sup>[<a href=\"#cite_ref-2\">2</a>]</sup>  P Padhanarath et al 2019 IOP Conf. Ser.: Mater. Sci. Eng. 620 012094.\n",
    "   <br>https://iopscience.iop.org/article/10.1088/1757-899X/620/1/012094/pdf"
   ]
  },
  {
   "cell_type": "markdown",
   "metadata": {},
   "source": [
    "# Hypothesis\n"
   ]
  },
  {
   "cell_type": "markdown",
   "metadata": {},
   "source": [
    "Before answering our research question by investigating the available data, we think that there will be a positive correlation between a positive sentiment for a company and said company’s stock prices rising, as well as a positive correlation between a negative sentiment for a company and said company’s stock prices falling. This is due to the connection between a company’s public perception, how that is reflected in social media, and how it manifests in the stock market. If tweets about a company are mostly negative within a certain time period, we would expect to observe a decrease in stock prices, as both phenomena correspond to a decrease in public perception of the company. However, we also acknowledge that this relationship may not be as straightforward as is stated here, as there may be other confounds affecting each variable, such as Twitter only capturing the sentiment of a more vocal sample of people as compared to the rest of the population."
   ]
  },
  {
   "cell_type": "markdown",
   "metadata": {},
   "source": [
    "# Data"
   ]
  },
  {
   "cell_type": "markdown",
   "metadata": {},
   "source": [
    "## Data overview\n",
    "\n",
    "**(This needs to be changed, as we now have more data to work with)**\n",
    "\n",
    "- Dataset #1\n",
    "  - Dataset Name: Tweet Stock\n",
    "  - Link to the dataset: https://www.kaggle.com/code/shreytandel19/stock-prediction-based-on-tweet-sentiment-analysis/input\n",
    "  - Number of observations: 80793\n",
    "  - Number of variables: 4\n",
    "- Dataset #2\n",
    "  - Dataset Name: TESLA_HISTORICAL\n",
    "  - Link to the dataset: https://www.nasdaq.com/market-activity/stocks/tsla/historical\n",
    "  - Number of observations: 1258\n",
    "  - Number of variables: 6\n",
    "\n",
    "The first dataset, Tweet Stock, is a collection of tweets that talk about TSLA, the stock for the company Tesla. The time range for this datasets is from September 30th, 2021 to September 29th, 2022, and was chosen  since we are unable to obtain current Twitter data, and need to rely on past data that has already been collected. The two important variables in this dataset are the dates that the tweets were posted, as well as the tweets themselves. The tweets are in the form of strings, and the dates will be converted into a standard Timestamp format. The tweets in this dataset will be used as a proxy for social media opinion, once it is processed by a sentiment analysis model.\n",
    "\n",
    "The second dataset, TESLA_HISTORICAL, is a record of prices of the TSLA stock on each day from September 30th, 2021 to September 29th, 2022. This time range was chosen to match the time range of the other dataset. In the dataset, the highest, lowest, and open/close prices of the stock are recorded as floats in each row, along with the corresponding day, which will be converted into a standard Timestamp format. These variables can provide insight into how a stock varies within a day, and comparing these across different days can lead to potential trends over time. The prices are a direct factual record of TSLA prices, although further numerical processing may be needed later to reveal meaningful trends.\n",
    "\n",
    "Further details of the specific steps taken to clean the datasets will be explained below."
   ]
  },
  {
   "cell_type": "markdown",
   "metadata": {},
   "source": [
    "## Set up"
   ]
  },
  {
   "cell_type": "code",
   "execution_count": 1,
   "metadata": {},
   "outputs": [
    {
     "name": "stderr",
     "output_type": "stream",
     "text": [
      "[nltk_data] Downloading package opinion_lexicon to\n",
      "[nltk_data]     C:\\Users\\saxen\\AppData\\Roaming\\nltk_data...\n",
      "[nltk_data]   Package opinion_lexicon is already up-to-date!\n",
      "[nltk_data] Downloading package punkt to\n",
      "[nltk_data]     C:\\Users\\saxen\\AppData\\Roaming\\nltk_data...\n",
      "[nltk_data]   Package punkt is already up-to-date!\n",
      "[nltk_data] Downloading package stopwords to\n",
      "[nltk_data]     C:\\Users\\saxen\\AppData\\Roaming\\nltk_data...\n",
      "[nltk_data]   Package stopwords is already up-to-date!\n"
     ]
    }
   ],
   "source": [
    "import numpy as np\n",
    "import pandas as pd\n",
    "import matplotlib.pyplot as plt\n",
    "import math\n",
    "import seaborn as sns\n",
    "import datetime \n",
    "from datetime import timedelta \n",
    "import nltk\n",
    "from nltk.corpus import stopwords\n",
    "from nltk.tokenize import word_tokenize\n",
    "from nltk.corpus import opinion_lexicon\n",
    "from nltk.tokenize import word_tokenize\n",
    "import re\n",
    "\n",
    "\n",
    "nltk.download('opinion_lexicon')\n",
    "nltk.download('punkt') \n",
    "nltk.download('stopwords')\n",
    "\n",
    "from vaderSentiment.vaderSentiment import SentimentIntensityAnalyzer "
   ]
  },
  {
   "cell_type": "markdown",
   "metadata": {},
   "source": [
    "## Dataset #1 Tweet Data"
   ]
  },
  {
   "cell_type": "code",
   "execution_count": 2,
   "metadata": {},
   "outputs": [
    {
     "name": "stderr",
     "output_type": "stream",
     "text": [
      "C:\\Users\\saxen\\AppData\\Local\\Temp/ipykernel_38488/240886318.py:8: SettingWithCopyWarning: \n",
      "A value is trying to be set on a copy of a slice from a DataFrame.\n",
      "Try using .loc[row_indexer,col_indexer] = value instead\n",
      "\n",
      "See the caveats in the documentation: https://pandas.pydata.org/pandas-docs/stable/user_guide/indexing.html#returning-a-view-versus-a-copy\n",
      "  tweet_tesla['Tweet'] = tweet_tesla['Tweet'].str.lower()\n"
     ]
    }
   ],
   "source": [
    "tweet = pd.read_csv('data/stock_tweets.csv')\n",
    "tweet.dropna(inplace=True)\n",
    "#delete any missing value within the dataset\n",
    "tweet['Date'] = pd.to_datetime(tweet.get('Date')).dt.date\n",
    "#convert the date enteries into standarized form\n",
    "tweet_tesla = tweet[tweet.get('Stock Name')=='TSLA']\n",
    "#reduced the dataset into Tesla only\n",
    "tweet_tesla['Tweet'] = tweet_tesla['Tweet'].str.lower()\n",
    "tweet_tesla = tweet_tesla.drop(\"Company Name\", axis=1) \n",
    "\n",
    "# Read from other dataset, containing tweets for more companies.\n",
    "tweets_multiple = pd.read_csv('data/Tweet.csv')\n",
    "id_to_company = pd.read_csv('data/Company_Tweet.csv')\n",
    "tweets_multiple = tweets_multiple.join(id_to_company.set_index('tweet_id'), on='tweet_id')\n",
    "#delete any missing value within the dataset\n",
    "tweets_multiple.dropna(inplace=True)\n",
    "\n",
    "tweets_multiple = tweets_multiple[['post_date', 'body', 'ticker_symbol']]\n",
    "#drop irrelvant columns\n",
    "\n",
    "tweets_multiple['Date'] = pd.to_datetime(tweets_multiple['post_date'], unit='s').dt.date\n",
    "\n",
    "tweets_multiple = tweets_multiple[['Date', 'body', 'ticker_symbol']]\n",
    "tweets_multiple.columns = ['Date', 'Tweet', 'Stock Name']\n",
    "tweets_multiple = tweets_multiple.sort_values(by=['Stock Name', 'Date'])\n",
    "\n",
    "tweets_multiple = tweets_multiple.reset_index(drop=True)\n",
    "tweets_multiple[\"isStatusChanged\"] = tweets_multiple[\"Stock Name\"].shift(1, fill_value=tweets_multiple[\"Stock Name\"].head(1)) != tweets_multiple[\"Stock Name\"]\n",
    "\n",
    "tweets_multiple.loc[tweets_multiple[\"isStatusChanged\"] == True]\n",
    "\n",
    "apple_tweets = tweets_multiple.iloc[:1414802].drop(columns=['isStatusChanged']).reset_index(drop=True)\n",
    "amazon_tweets = tweets_multiple.iloc[1414802:2123994].drop(columns=['isStatusChanged']).reset_index(drop=True)\n",
    "google_tweets = tweets_multiple.iloc[2123994:2833526].drop(columns=['isStatusChanged']).reset_index(drop=True)\n",
    "microsoft_tweets = tweets_multiple.iloc[2833526:3207324].drop(columns=['isStatusChanged']).reset_index(drop=True)\n",
    "tesla_tweets = tweets_multiple.iloc[3207324:].drop(columns=['isStatusChanged']).reset_index(drop=True)\n",
    "tesla_tweets = pd.concat([tesla_tweets, tweet_tesla], ignore_index=True).sort_values(by=\"Date\")"
   ]
  },
  {
   "cell_type": "code",
   "execution_count": 3,
   "metadata": {},
   "outputs": [],
   "source": [
    "# Write data to file to avoid reading from large csv every time\n",
    "apple_tweets.to_csv('data/Apple_Tweets.csv', index=False)\n",
    "amazon_tweets.to_csv('data/Amazon_Tweets.csv', index=False)\n",
    "google_tweets.to_csv('data/Google_Tweets.csv', index=False)\n",
    "microsoft_tweets.to_csv('data/Microsoft_Tweets.csv', index=False)\n",
    "tesla_tweets.to_csv('data/Tesla_Tweets.csv', index=False)"
   ]
  },
  {
   "cell_type": "code",
   "execution_count": 4,
   "metadata": {},
   "outputs": [
    {
     "data": {
      "text/plain": [
       "datetime.date(2015, 1, 1)"
      ]
     },
     "execution_count": 4,
     "metadata": {},
     "output_type": "execute_result"
    }
   ],
   "source": [
    "#Test\n",
    "apple_tweets[\"Date\"][0]"
   ]
  },
  {
   "cell_type": "markdown",
   "metadata": {},
   "source": [
    "## Dataset #2 Stock Data"
   ]
  },
  {
   "cell_type": "code",
   "execution_count": 5,
   "metadata": {},
   "outputs": [],
   "source": [
    "tesla = pd.read_csv('data/TESLA_HISTORICAL.csv')\n",
    "apple = pd.read_csv('data/APPLE_HISTORICAL.csv')\n",
    "amazon = pd.read_csv('data/AMAZON_HISTORICAL.csv')\n",
    "microsoft = pd.read_csv('data/MICROSOFT_HISTORICAL.csv')\n",
    "googl = pd.read_csv('data/GOOGL_HISTORICAL.csv')\n",
    "goog = pd.read_csv('data/GOOG_HISTORICAL.csv')\n",
    "\n",
    "stocks = [tesla, apple, amazon, microsoft, goog, googl]\n",
    "\n",
    "for df in stocks:\n",
    "    df.dropna(inplace=True)\n",
    "    #delete any missing value within the dataset\n",
    "    df['Date'] = pd.to_datetime(df.get('Date')).dt.date\n",
    "    #convert the date enteries into standarized form\n",
    "    def nodollartofloat(series):\n",
    "        series = series.str.strip('$')\n",
    "        blank = []\n",
    "        for i in series:\n",
    "            i = float(i)\n",
    "            blank = np.append(blank,i)\n",
    "        return blank\n",
    "    df['End Day Price'] = nodollartofloat(df['Close/Last'])\n",
    "    df['Beginning Day Price'] = nodollartofloat(df['Open'])\n",
    "    df['Highest Price'] = nodollartofloat(df['High'])\n",
    "    df['Lowest Price'] = nodollartofloat(df['Low'])\n",
    "    df = df.drop(['Close/Last','Volume','Open','High','Low'], axis=1)\n",
    "    #convert all string input into number\n",
    "\n",
    "    start_date = pd.to_datetime('2015-01-01').date()\n",
    "    end_date = pd.to_datetime('2022-09-29').date()\n",
    "\n",
    "    df = df[(df['Date'] >= start_date) & (df['Date'] <= end_date)]\n",
    "    df.reset_index(drop=True, inplace=True)\n",
    "\n",
    "tesla =  stocks[0]\n",
    "apple = stocks[1]\n",
    "amazon = stocks[2]\n",
    "microsoft= stocks[3]\n",
    "goog = stocks[4]\n",
    "googl = stocks[5]"
   ]
  },
  {
   "cell_type": "markdown",
   "metadata": {},
   "source": [
    "# Results\n",
    "\n",
    "## Exploratory Data Analysis\n",
    "\n",
    "Carry out whatever EDA you need to for your project.  Because every project will be different we can't really give you much of a template at this point. But please make sure you describe the what and why in text here as well as providing interpretation of results and context."
   ]
  },
  {
   "cell_type": "code",
   "execution_count": 28,
   "metadata": {},
   "outputs": [
    {
     "data": {
      "text/html": [
       "<div>\n",
       "<style scoped>\n",
       "    .dataframe tbody tr th:only-of-type {\n",
       "        vertical-align: middle;\n",
       "    }\n",
       "\n",
       "    .dataframe tbody tr th {\n",
       "        vertical-align: top;\n",
       "    }\n",
       "\n",
       "    .dataframe thead th {\n",
       "        text-align: right;\n",
       "    }\n",
       "</style>\n",
       "<table border=\"1\" class=\"dataframe\">\n",
       "  <thead>\n",
       "    <tr style=\"text-align: right;\">\n",
       "      <th></th>\n",
       "      <th>Date</th>\n",
       "      <th>Tweet</th>\n",
       "      <th>Stock Name</th>\n",
       "    </tr>\n",
       "  </thead>\n",
       "  <tbody>\n",
       "    <tr>\n",
       "      <th>298</th>\n",
       "      <td>2015-01-02</td>\n",
       "      <td>Either way you're a winnah. RT @dbbrakebill: i...</td>\n",
       "      <td>AAPL</td>\n",
       "    </tr>\n",
       "    <tr>\n",
       "      <th>299</th>\n",
       "      <td>2015-01-02</td>\n",
       "      <td>@Weeklyoptions http://Weeklyoptionplays.com we...</td>\n",
       "      <td>AAPL</td>\n",
       "    </tr>\n",
       "    <tr>\n",
       "      <th>300</th>\n",
       "      <td>2015-01-02</td>\n",
       "      <td>.@BenBajarin @counternotions @GlennF Thankful ...</td>\n",
       "      <td>AAPL</td>\n",
       "    </tr>\n",
       "    <tr>\n",
       "      <th>301</th>\n",
       "      <td>2015-01-02</td>\n",
       "      <td>Variable Moving Average [LazyBear] $AAPL http:...</td>\n",
       "      <td>AAPL</td>\n",
       "    </tr>\n",
       "    <tr>\n",
       "      <th>302</th>\n",
       "      <td>2015-01-02</td>\n",
       "      <td>@fredwilson 4 sure/with cause: \"Safety used to...</td>\n",
       "      <td>AAPL</td>\n",
       "    </tr>\n",
       "    <tr>\n",
       "      <th>...</th>\n",
       "      <td>...</td>\n",
       "      <td>...</td>\n",
       "      <td>...</td>\n",
       "    </tr>\n",
       "    <tr>\n",
       "      <th>1157</th>\n",
       "      <td>2015-01-02</td>\n",
       "      <td>Apple Sees Unusually Large Options Volume $AAP...</td>\n",
       "      <td>AAPL</td>\n",
       "    </tr>\n",
       "    <tr>\n",
       "      <th>1158</th>\n",
       "      <td>2015-01-02</td>\n",
       "      <td>Free 5€ in account balance for first 100.000 m...</td>\n",
       "      <td>AAPL</td>\n",
       "    </tr>\n",
       "    <tr>\n",
       "      <th>1159</th>\n",
       "      <td>2015-01-02</td>\n",
       "      <td>When was Fred Wilson last right about $AAPL ? ...</td>\n",
       "      <td>AAPL</td>\n",
       "    </tr>\n",
       "    <tr>\n",
       "      <th>1160</th>\n",
       "      <td>2015-01-02</td>\n",
       "      <td>$AAPL day traded Apple for the first time ever...</td>\n",
       "      <td>AAPL</td>\n",
       "    </tr>\n",
       "    <tr>\n",
       "      <th>1161</th>\n",
       "      <td>2015-01-02</td>\n",
       "      <td>Music streaming expands in 2014, digital sales...</td>\n",
       "      <td>AAPL</td>\n",
       "    </tr>\n",
       "  </tbody>\n",
       "</table>\n",
       "<p>864 rows × 3 columns</p>\n",
       "</div>"
      ],
      "text/plain": [
       "            Date                                              Tweet Stock Name\n",
       "298   2015-01-02  Either way you're a winnah. RT @dbbrakebill: i...       AAPL\n",
       "299   2015-01-02  @Weeklyoptions http://Weeklyoptionplays.com we...       AAPL\n",
       "300   2015-01-02  .@BenBajarin @counternotions @GlennF Thankful ...       AAPL\n",
       "301   2015-01-02  Variable Moving Average [LazyBear] $AAPL http:...       AAPL\n",
       "302   2015-01-02  @fredwilson 4 sure/with cause: \"Safety used to...       AAPL\n",
       "...          ...                                                ...        ...\n",
       "1157  2015-01-02  Apple Sees Unusually Large Options Volume $AAP...       AAPL\n",
       "1158  2015-01-02  Free 5€ in account balance for first 100.000 m...       AAPL\n",
       "1159  2015-01-02  When was Fred Wilson last right about $AAPL ? ...       AAPL\n",
       "1160  2015-01-02  $AAPL day traded Apple for the first time ever...       AAPL\n",
       "1161  2015-01-02  Music streaming expands in 2014, digital sales...       AAPL\n",
       "\n",
       "[864 rows x 3 columns]"
      ]
     },
     "execution_count": 28,
     "metadata": {},
     "output_type": "execute_result"
    }
   ],
   "source": [
    "currdate = datetime.date(2015, 1, 1)\n",
    "currdate = currdate + datetime.timedelta(days=1)\n",
    "apple_tweets.loc[apple_tweets[\"Date\"] == currdate]\n"
   ]
  },
  {
   "cell_type": "markdown",
   "metadata": {},
   "source": [
    "## First Analysis You Did - Give it a better title\n",
    "\n",
    "Some more words and stuff.  Remember notebooks work best if you interleave the code that generates a result with properly annotate figures and text that puts these results into context."
   ]
  },
  {
   "cell_type": "code",
   "execution_count": null,
   "metadata": {},
   "outputs": [],
   "source": [
    "## YOUR CODE HERE\n",
    "## FEEL FREE TO ADD MULTIPLE CELLS PER SECTION"
   ]
  },
  {
   "cell_type": "markdown",
   "metadata": {},
   "source": [
    "## Second Analysis You Did - Give it a better title\n",
    "\n",
    "Some more words and stuff.  Remember notebooks work best if you interleave the code that generates a result with properly annotate figures and text that puts these results into context."
   ]
  },
  {
   "cell_type": "code",
   "execution_count": null,
   "metadata": {},
   "outputs": [],
   "source": [
    "## YOUR CODE HERE\n",
    "## FEEL FREE TO ADD MULTIPLE CELLS PER SECTION"
   ]
  },
  {
   "cell_type": "markdown",
   "metadata": {},
   "source": [
    "## ETC AD NASEUM\n",
    "\n",
    "Some more words and stuff.  Remember notebooks work best if you interleave the code that generates a result with properly annotate figures and text that puts these results into context."
   ]
  },
  {
   "cell_type": "code",
   "execution_count": null,
   "metadata": {},
   "outputs": [],
   "source": [
    "## YOUR CODE HERE\n",
    "## FEEL FREE TO ADD MULTIPLE CELLS PER SECTION"
   ]
  },
  {
   "cell_type": "markdown",
   "metadata": {},
   "source": [
    "# Ethics & Privacy"
   ]
  },
  {
   "cell_type": "markdown",
   "metadata": {},
   "source": [
    "- Thoughtful discussion of ethical concerns included\n",
    "- Ethical concerns consider the whole data science process (question asked, data collected, data being used, the bias in data, analysis, post-analysis, etc.)\n",
    "- How your group handled bias/ethical concerns clearly described\n",
    "\n",
    "Acknowledge and address any ethics & privacy related issues of your question(s), proposed dataset(s), and/or analyses. Use the information provided in lecture to guide your group discussion and thinking. If you need further guidance, check out [Deon's Ethics Checklist](http://deon.drivendata.org/#data-science-ethics-checklist). In particular:\n",
    "\n",
    "- Are there any biases/privacy/terms of use issues with the data you propsed?\n",
    "- Are there potential biases in your dataset(s), in terms of who it composes, and how it was collected, that may be problematic in terms of it allowing for equitable analysis? (For example, does your data exclude particular populations, or is it likely to reflect particular human biases in a way that could be a problem?)\n",
    "- How will you set out to detect these specific biases before, during, and after/when communicating your analysis?\n",
    "- Are there any other issues related to your topic area, data, and/or analyses that are potentially problematic in terms of data privacy and equitable impact?\n",
    "- How will you handle issues you identified?"
   ]
  },
  {
   "cell_type": "markdown",
   "metadata": {},
   "source": [
    "# Discusison and Conclusion\n",
    "\n",
    "Wrap it all up here.  Somewhere between 3 and 10 paragraphs roughly.  A good time to refer back to your Background section and review how this work extended the previous stuff. \n",
    "\n",
    "\n",
    "# Team Contributions\n",
    "\n",
    "Speficy who did what.  This should be pretty granular, perhaps bullet points, no more than a few sentences per person."
   ]
  }
 ],
 "metadata": {
  "kernelspec": {
   "display_name": "Python 3 (ipykernel)",
   "language": "python",
   "name": "python3"
  },
  "language_info": {
   "codemirror_mode": {
    "name": "ipython",
    "version": 3
   },
   "file_extension": ".py",
   "mimetype": "text/x-python",
   "name": "python",
   "nbconvert_exporter": "python",
   "pygments_lexer": "ipython3",
   "version": "3.9.7"
  }
 },
 "nbformat": 4,
 "nbformat_minor": 2
}
