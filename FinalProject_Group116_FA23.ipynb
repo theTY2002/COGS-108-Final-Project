{
 "cells": [
  {
   "cell_type": "markdown",
   "metadata": {},
   "source": [
    "# COGS 108 - Final Project (change this to your project's title)\n",
    "\n",
    "# Permissions\n",
    "\n",
    "Place an `X` in the appropriate bracket below to specify if you would like your group's project to be made available to the public. (Note that student names will be included (but PIDs will be scraped from any groups who include their PIDs).\n",
    "\n",
    "* [  ] YES - make available\n",
    "* [  ] NO - keep private\n",
    "\n",
    "# Names\n",
    "\n",
    "- Kavin Raj\n",
    "- Arnav Saxena\n",
    "- Tiantong Wu\n",
    "- Peike Xu\n",
    "- Jing Yin Yip\n",
    "\n",
    "# Abstract\n",
    "\n",
    "Please write one to four paragraphs that describe a very brief overview of why you did this, how you did, and the major findings and conclusions."
   ]
  },
  {
   "cell_type": "markdown",
   "metadata": {},
   "source": [
    "# Research Question"
   ]
  },
  {
   "cell_type": "markdown",
   "metadata": {},
   "source": [
    "-  Include a specific, clear data science question.\n",
    "-  Make sure what you're measuring (variables) to answer the question is clear\n",
    "\n",
    "What is your research question? Include the specific question you're setting out to answer. This question should be specific, answerable with data, and clear. A general question with specific subquestions is permitted. (1-2 sentences)\n",
    "\n",
    "How do opinionated tweets on Twitter as measured by a sentiment analysis model affect the stock prices of major tech companies, such as Apple, Amazon, Google, and Tesla within the time period of **(insert new time period here)**?"
   ]
  },
  {
   "cell_type": "markdown",
   "metadata": {},
   "source": [
    "## Background and Prior Work"
   ]
  },
  {
   "cell_type": "markdown",
   "metadata": {},
   "source": [
    "\n",
    "- Include a general introduction to your topic\n",
    "- Include explanation of what work has been done previously\n",
    "- Include citations or links to previous work\n",
    "\n",
    "This section will present the background and context of your topic and question in a few paragraphs. Include a general introduction to your topic and then describe what information you currently know about the topic after doing your initial research. Include references to other projects who have asked similar questions or approached similar problems. Explain what others have learned in their projects.\n",
    "\n",
    "Find some relevant prior work, and reference those sources, summarizing what each did and what they learned. Even if you think you have a totally novel question, find the most similar prior work that you can and discuss how it relates to your project.\n",
    "\n",
    "References can be research publications, but they need not be. Blogs, GitHub repositories, company websites, etc., are all viable references if they are relevant to your project. It must be clear which information comes from which references. (2-3 paragraphs, including at least 2 references)\n",
    "\n",
    "**(Below is what we wrote before, but the group that created the new dataset also has another paper that could be incorporated into here: https://www.kaggle.com/datasets/omermetinn/tweets-about-the-top-companies-from-2015-to-2020/versions/1?resource=download)**\n",
    "\n",
    "Twitter is a widely used social media platform for expressing many kinds of opinions, including those on certain companies. We believe that this may have an impact on the public perception of these companies, and we aim to investigate whether there is a connection between opinions expressed in social media and the actual stock prices of the companies in question. An example of was seen this back in 2021, when “a thread on r/WallStreetBets”  caused “more than 7,200% increase in GME—and a 689% run”<a name=\"cite_note-1\"></a> <sup>[<a href=\"#cite_ref-1\">1</a>]</sup> . This occurence informed us that there is a potential causal effect between opinions on social media and real-world stock prices; we think that this effect has a much greater scope than just this isolated case of GameStop stocks, and we are interested in seeing if this is a larger, more general phenomenon that can be applied to other time periods and companies.\n",
    "\n",
    "When reading a research paper from the IOP conference series, we found a sentiment analysis model based on social media opinion on stock trading. It was remarked in the conclusion that “looking into correlation coefficient compared by number of days before and after the trading day, the result shows that correlation reaches to the peak on trading day then it gradually declines with the magnitude depending on the day length after trading day.” <a name=\"cite_note-2\"></a> <sup>[<a href=\"#cite_ref-2\">2</a>]</sup> This research is similar to what we aim to investigate, as the paper conducted their test on a Thai social media platform called Pantip, and discussed ten Thai companies. The paper provides more evidence that there is a causal link between social media sentiment and stock prices, and we are interested to see if a similar trend can be seen with tweets and tech companies' stocks in the US. Additionally, we would also like to investigate if there are other similarities or differences in the trends that we are able to identify between our research and the paper, such as the correlation between variables reaching a peak on trading day.\n",
    "\n",
    "1. <a name=\"cite_note-1\"></a> <sup>[<a href=\"#cite_ref-1\">1</a>]</sup> Rechel, J. (28 Jan 2021) How social media moves markets: Analyzing GameStop (GME) using social listening data. Sprout Blog.\n",
    "   <br> https://sproutsocial.com/insights/gamestop-stock-social-media\n",
    "\n",
    "2. <a name=\"cite_note-2\"></a> <sup>[<a href=\"#cite_ref-2\">2</a>]</sup>  P Padhanarath et al 2019 IOP Conf. Ser.: Mater. Sci. Eng. 620 012094.\n",
    "   <br>https://iopscience.iop.org/article/10.1088/1757-899X/620/1/012094/pdf"
   ]
  },
  {
   "cell_type": "markdown",
   "metadata": {},
   "source": [
    "# Hypothesis\n"
   ]
  },
  {
   "cell_type": "markdown",
   "metadata": {},
   "source": [
    "Before answering our research question by investigating the available data, we think that there will be a positive correlation between a positive sentiment for a company and said company’s stock prices rising, as well as a positive correlation between a negative sentiment for a company and said company’s stock prices falling. This is due to the connection between a company’s public perception, how that is reflected in social media, and how it manifests in the stock market. If tweets about a company are mostly negative within a certain time period, we would expect to observe a decrease in stock prices, as both phenomena correspond to a decrease in public perception of the company. However, we also acknowledge that this relationship may not be as straightforward as is stated here, as there may be other confounds affecting each variable, such as Twitter only capturing the sentiment of a more vocal sample of people as compared to the rest of the population."
   ]
  },
  {
   "cell_type": "markdown",
   "metadata": {},
   "source": [
    "# Data"
   ]
  },
  {
   "cell_type": "markdown",
   "metadata": {},
   "source": [
    "## Data overview\n",
    "\n",
    "Tweet Data:\n",
    "- Dataset #1\n",
    "  - Dataset Name: Stock prediction based on Tweet Sentiment Analysis\n",
    "  - Link to the dataset: https://www.kaggle.com/code/shreytandel19/stock-prediction-based-on-tweet-sentiment-analysis/input\n",
    "  - Number of observations: 80793\n",
    "  - Number of variables: 4\n",
    "- Dataset #2\n",
    "  - Dataset Name: Tweets about the Top Companies from 2015 to 2020\n",
    "  - Link to the dataset: https://www.kaggle.com/datasets/omermetinn/tweets-about-the-top-companies-from-2015-to-2020?select=Tweet.csv\n",
    "  - Number of observations: 3717964\n",
    "  - Number of variables: 7\n",
    "\n",
    "Stock Data:\n",
    "- Dataset #3\n",
    "  - Dataset Name: TESLA_HISTORICAL\n",
    "  - Link to the dataset: https://www.nasdaq.com/market-activity/stocks/tsla/historical\n",
    "  - Number of observations: 1258\n",
    "  - Number of variables: 6\n",
    "- Dataset #4\n",
    "  - Dataset Name: APPLE_HISTORICAL\n",
    "  - Link to the dataset: https://www.nasdaq.com/market-activity/stocks/aapl/historical\n",
    "  - Number of observations: 1258\n",
    "  - Number of variables: 6\n",
    "- Dataset #5\n",
    "  - Dataset Name: AMAZON_HISTORICAL\n",
    "  - Link to the dataset: https://www.nasdaq.com/market-activity/stocks/amzn/historical\n",
    "  - Number of observations: 1258\n",
    "  - Number of variables: 6\n",
    "- Dataset #6\n",
    "  - Dataset Name: GOOGL_HISTORICAL\n",
    "  - Link to the dataset: https://www.nasdaq.com/market-activity/stocks/googl/historical\n",
    "  - Number of observations: 1258\n",
    "  - Number of variables: 6\n",
    "- Dataset #7\n",
    "  - Dataset Name: GOOG_HISTORICAL\n",
    "  - Link to the dataset: https://www.nasdaq.com/market-activity/stocks/goog/historical\n",
    "  - Number of observations: 1258\n",
    "  - Number of variables: 6\n",
    "- Dataset #8\n",
    "  - Dataset Name: MICROSOFT_HISTORICAL\n",
    "  - Link to the dataset: https://www.nasdaq.com/market-activity/stocks/msft/historical\n",
    "  - Number of observations: 1258\n",
    "  - Number of variables: 6\n",
    "\n",
    "\n",
    "The first dataset, Tweet Stock, is a collection of tweets that talk about TSLA, the stock for the company Tesla. The time range for this datasets is from September 30th, 2021 to September 29th, 2022, and was chosen  since we are unable to obtain current Twitter data, and need to rely on past data that has already been collected. The two important variables in this dataset are the dates that the tweets were posted, as well as the tweets themselves. The tweets are in the form of strings, and the dates will be converted into a standard Timestamp format. The tweets in this dataset will be used as a proxy for social media opinion, once it is processed by a sentiment analysis model.\n",
    "\n",
    "The second dataset, TESLA_HISTORICAL, is a record of prices of the TSLA stock on each day from September 30th, 2021 to September 29th, 2022. This time range was chosen to match the time range of the other dataset. In the dataset, the highest, lowest, and open/close prices of the stock are recorded as floats in each row, along with the corresponding day, which will be converted into a standard Timestamp format. These variables can provide insight into how a stock varies within a day, and comparing these across different days can lead to potential trends over time. The prices are a direct factual record of TSLA prices, although further numerical processing may be needed later to reveal meaningful trends.\n",
    "\n",
    "Further details of the specific steps taken to clean the datasets will be explained below."
   ]
  },
  {
   "cell_type": "markdown",
   "metadata": {},
   "source": [
    "## Set up"
   ]
  },
  {
   "cell_type": "code",
   "execution_count": 7,
   "metadata": {},
   "outputs": [
    {
     "name": "stderr",
     "output_type": "stream",
     "text": [
      "[nltk_data] Downloading package opinion_lexicon to\n",
      "[nltk_data]     C:\\Users\\saxen\\AppData\\Roaming\\nltk_data...\n",
      "[nltk_data]   Package opinion_lexicon is already up-to-date!\n",
      "[nltk_data] Downloading package punkt to\n",
      "[nltk_data]     C:\\Users\\saxen\\AppData\\Roaming\\nltk_data...\n",
      "[nltk_data]   Package punkt is already up-to-date!\n",
      "[nltk_data] Downloading package stopwords to\n",
      "[nltk_data]     C:\\Users\\saxen\\AppData\\Roaming\\nltk_data...\n",
      "[nltk_data]   Package stopwords is already up-to-date!\n"
     ]
    }
   ],
   "source": [
    "import numpy as np\n",
    "import pandas as pd\n",
    "import matplotlib.pyplot as plt\n",
    "import math\n",
    "import seaborn as sns\n",
    "import datetime \n",
    "from datetime import timedelta \n",
    "import nltk\n",
    "from nltk.corpus import stopwords\n",
    "from nltk.tokenize import word_tokenize\n",
    "from nltk.corpus import opinion_lexicon\n",
    "from nltk.tokenize import word_tokenize\n",
    "import re\n",
    "import statsmodels.api as sm\n",
    "\n",
    "\n",
    "nltk.download('opinion_lexicon')\n",
    "nltk.download('punkt') \n",
    "nltk.download('stopwords')\n",
    "\n",
    "from vaderSentiment.vaderSentiment import SentimentIntensityAnalyzer "
   ]
  },
  {
   "cell_type": "markdown",
   "metadata": {},
   "source": [
    "## Dataset #1 Tweet Data"
   ]
  },
  {
   "cell_type": "code",
   "execution_count": 54,
   "metadata": {},
   "outputs": [
    {
     "name": "stderr",
     "output_type": "stream",
     "text": [
      "C:\\Users\\saxen\\AppData\\Local\\Temp/ipykernel_29152/257486541.py:8: SettingWithCopyWarning: \n",
      "A value is trying to be set on a copy of a slice from a DataFrame.\n",
      "Try using .loc[row_indexer,col_indexer] = value instead\n",
      "\n",
      "See the caveats in the documentation: https://pandas.pydata.org/pandas-docs/stable/user_guide/indexing.html#returning-a-view-versus-a-copy\n",
      "  tweet_tesla['Tweet'] = tweet_tesla['Tweet'].str.lower()\n"
     ]
    },
    {
     "ename": "FileNotFoundError",
     "evalue": "[Errno 2] No such file or directory: 'data/Tweet.csv'",
     "output_type": "error",
     "traceback": [
      "\u001b[1;31m---------------------------------------------------------------------------\u001b[0m",
      "\u001b[1;31mFileNotFoundError\u001b[0m                         Traceback (most recent call last)",
      "\u001b[1;32m~\\AppData\\Local\\Temp/ipykernel_29152/257486541.py\u001b[0m in \u001b[0;36m<module>\u001b[1;34m\u001b[0m\n\u001b[0;32m     10\u001b[0m \u001b[1;33m\u001b[0m\u001b[0m\n\u001b[0;32m     11\u001b[0m \u001b[1;31m# Read from other dataset, containing tweets for more companies.\u001b[0m\u001b[1;33m\u001b[0m\u001b[1;33m\u001b[0m\u001b[0m\n\u001b[1;32m---> 12\u001b[1;33m \u001b[0mtweets_multiple\u001b[0m \u001b[1;33m=\u001b[0m \u001b[0mpd\u001b[0m\u001b[1;33m.\u001b[0m\u001b[0mread_csv\u001b[0m\u001b[1;33m(\u001b[0m\u001b[1;34m'data/Tweet.csv'\u001b[0m\u001b[1;33m)\u001b[0m\u001b[1;33m\u001b[0m\u001b[1;33m\u001b[0m\u001b[0m\n\u001b[0m\u001b[0;32m     13\u001b[0m \u001b[0mid_to_company\u001b[0m \u001b[1;33m=\u001b[0m \u001b[0mpd\u001b[0m\u001b[1;33m.\u001b[0m\u001b[0mread_csv\u001b[0m\u001b[1;33m(\u001b[0m\u001b[1;34m'data/Company_Tweet.csv'\u001b[0m\u001b[1;33m)\u001b[0m\u001b[1;33m\u001b[0m\u001b[1;33m\u001b[0m\u001b[0m\n\u001b[0;32m     14\u001b[0m \u001b[0mtweets_multiple\u001b[0m \u001b[1;33m=\u001b[0m \u001b[0mtweets_multiple\u001b[0m\u001b[1;33m.\u001b[0m\u001b[0mjoin\u001b[0m\u001b[1;33m(\u001b[0m\u001b[0mid_to_company\u001b[0m\u001b[1;33m.\u001b[0m\u001b[0mset_index\u001b[0m\u001b[1;33m(\u001b[0m\u001b[1;34m'tweet_id'\u001b[0m\u001b[1;33m)\u001b[0m\u001b[1;33m,\u001b[0m \u001b[0mon\u001b[0m\u001b[1;33m=\u001b[0m\u001b[1;34m'tweet_id'\u001b[0m\u001b[1;33m)\u001b[0m\u001b[1;33m\u001b[0m\u001b[1;33m\u001b[0m\u001b[0m\n",
      "\u001b[1;32mc:\\Users\\saxen\\anaconda3\\lib\\site-packages\\pandas\\util\\_decorators.py\u001b[0m in \u001b[0;36mwrapper\u001b[1;34m(*args, **kwargs)\u001b[0m\n\u001b[0;32m    309\u001b[0m                     \u001b[0mstacklevel\u001b[0m\u001b[1;33m=\u001b[0m\u001b[0mstacklevel\u001b[0m\u001b[1;33m,\u001b[0m\u001b[1;33m\u001b[0m\u001b[1;33m\u001b[0m\u001b[0m\n\u001b[0;32m    310\u001b[0m                 )\n\u001b[1;32m--> 311\u001b[1;33m             \u001b[1;32mreturn\u001b[0m \u001b[0mfunc\u001b[0m\u001b[1;33m(\u001b[0m\u001b[1;33m*\u001b[0m\u001b[0margs\u001b[0m\u001b[1;33m,\u001b[0m \u001b[1;33m**\u001b[0m\u001b[0mkwargs\u001b[0m\u001b[1;33m)\u001b[0m\u001b[1;33m\u001b[0m\u001b[1;33m\u001b[0m\u001b[0m\n\u001b[0m\u001b[0;32m    312\u001b[0m \u001b[1;33m\u001b[0m\u001b[0m\n\u001b[0;32m    313\u001b[0m         \u001b[1;32mreturn\u001b[0m \u001b[0mwrapper\u001b[0m\u001b[1;33m\u001b[0m\u001b[1;33m\u001b[0m\u001b[0m\n",
      "\u001b[1;32mc:\\Users\\saxen\\anaconda3\\lib\\site-packages\\pandas\\io\\parsers\\readers.py\u001b[0m in \u001b[0;36mread_csv\u001b[1;34m(filepath_or_buffer, sep, delimiter, header, names, index_col, usecols, squeeze, prefix, mangle_dupe_cols, dtype, engine, converters, true_values, false_values, skipinitialspace, skiprows, skipfooter, nrows, na_values, keep_default_na, na_filter, verbose, skip_blank_lines, parse_dates, infer_datetime_format, keep_date_col, date_parser, dayfirst, cache_dates, iterator, chunksize, compression, thousands, decimal, lineterminator, quotechar, quoting, doublequote, escapechar, comment, encoding, encoding_errors, dialect, error_bad_lines, warn_bad_lines, on_bad_lines, delim_whitespace, low_memory, memory_map, float_precision, storage_options)\u001b[0m\n\u001b[0;32m    584\u001b[0m     \u001b[0mkwds\u001b[0m\u001b[1;33m.\u001b[0m\u001b[0mupdate\u001b[0m\u001b[1;33m(\u001b[0m\u001b[0mkwds_defaults\u001b[0m\u001b[1;33m)\u001b[0m\u001b[1;33m\u001b[0m\u001b[1;33m\u001b[0m\u001b[0m\n\u001b[0;32m    585\u001b[0m \u001b[1;33m\u001b[0m\u001b[0m\n\u001b[1;32m--> 586\u001b[1;33m     \u001b[1;32mreturn\u001b[0m \u001b[0m_read\u001b[0m\u001b[1;33m(\u001b[0m\u001b[0mfilepath_or_buffer\u001b[0m\u001b[1;33m,\u001b[0m \u001b[0mkwds\u001b[0m\u001b[1;33m)\u001b[0m\u001b[1;33m\u001b[0m\u001b[1;33m\u001b[0m\u001b[0m\n\u001b[0m\u001b[0;32m    587\u001b[0m \u001b[1;33m\u001b[0m\u001b[0m\n\u001b[0;32m    588\u001b[0m \u001b[1;33m\u001b[0m\u001b[0m\n",
      "\u001b[1;32mc:\\Users\\saxen\\anaconda3\\lib\\site-packages\\pandas\\io\\parsers\\readers.py\u001b[0m in \u001b[0;36m_read\u001b[1;34m(filepath_or_buffer, kwds)\u001b[0m\n\u001b[0;32m    480\u001b[0m \u001b[1;33m\u001b[0m\u001b[0m\n\u001b[0;32m    481\u001b[0m     \u001b[1;31m# Create the parser.\u001b[0m\u001b[1;33m\u001b[0m\u001b[1;33m\u001b[0m\u001b[0m\n\u001b[1;32m--> 482\u001b[1;33m     \u001b[0mparser\u001b[0m \u001b[1;33m=\u001b[0m \u001b[0mTextFileReader\u001b[0m\u001b[1;33m(\u001b[0m\u001b[0mfilepath_or_buffer\u001b[0m\u001b[1;33m,\u001b[0m \u001b[1;33m**\u001b[0m\u001b[0mkwds\u001b[0m\u001b[1;33m)\u001b[0m\u001b[1;33m\u001b[0m\u001b[1;33m\u001b[0m\u001b[0m\n\u001b[0m\u001b[0;32m    483\u001b[0m \u001b[1;33m\u001b[0m\u001b[0m\n\u001b[0;32m    484\u001b[0m     \u001b[1;32mif\u001b[0m \u001b[0mchunksize\u001b[0m \u001b[1;32mor\u001b[0m \u001b[0miterator\u001b[0m\u001b[1;33m:\u001b[0m\u001b[1;33m\u001b[0m\u001b[1;33m\u001b[0m\u001b[0m\n",
      "\u001b[1;32mc:\\Users\\saxen\\anaconda3\\lib\\site-packages\\pandas\\io\\parsers\\readers.py\u001b[0m in \u001b[0;36m__init__\u001b[1;34m(self, f, engine, **kwds)\u001b[0m\n\u001b[0;32m    809\u001b[0m             \u001b[0mself\u001b[0m\u001b[1;33m.\u001b[0m\u001b[0moptions\u001b[0m\u001b[1;33m[\u001b[0m\u001b[1;34m\"has_index_names\"\u001b[0m\u001b[1;33m]\u001b[0m \u001b[1;33m=\u001b[0m \u001b[0mkwds\u001b[0m\u001b[1;33m[\u001b[0m\u001b[1;34m\"has_index_names\"\u001b[0m\u001b[1;33m]\u001b[0m\u001b[1;33m\u001b[0m\u001b[1;33m\u001b[0m\u001b[0m\n\u001b[0;32m    810\u001b[0m \u001b[1;33m\u001b[0m\u001b[0m\n\u001b[1;32m--> 811\u001b[1;33m         \u001b[0mself\u001b[0m\u001b[1;33m.\u001b[0m\u001b[0m_engine\u001b[0m \u001b[1;33m=\u001b[0m \u001b[0mself\u001b[0m\u001b[1;33m.\u001b[0m\u001b[0m_make_engine\u001b[0m\u001b[1;33m(\u001b[0m\u001b[0mself\u001b[0m\u001b[1;33m.\u001b[0m\u001b[0mengine\u001b[0m\u001b[1;33m)\u001b[0m\u001b[1;33m\u001b[0m\u001b[1;33m\u001b[0m\u001b[0m\n\u001b[0m\u001b[0;32m    812\u001b[0m \u001b[1;33m\u001b[0m\u001b[0m\n\u001b[0;32m    813\u001b[0m     \u001b[1;32mdef\u001b[0m \u001b[0mclose\u001b[0m\u001b[1;33m(\u001b[0m\u001b[0mself\u001b[0m\u001b[1;33m)\u001b[0m\u001b[1;33m:\u001b[0m\u001b[1;33m\u001b[0m\u001b[1;33m\u001b[0m\u001b[0m\n",
      "\u001b[1;32mc:\\Users\\saxen\\anaconda3\\lib\\site-packages\\pandas\\io\\parsers\\readers.py\u001b[0m in \u001b[0;36m_make_engine\u001b[1;34m(self, engine)\u001b[0m\n\u001b[0;32m   1038\u001b[0m             )\n\u001b[0;32m   1039\u001b[0m         \u001b[1;31m# error: Too many arguments for \"ParserBase\"\u001b[0m\u001b[1;33m\u001b[0m\u001b[1;33m\u001b[0m\u001b[0m\n\u001b[1;32m-> 1040\u001b[1;33m         \u001b[1;32mreturn\u001b[0m \u001b[0mmapping\u001b[0m\u001b[1;33m[\u001b[0m\u001b[0mengine\u001b[0m\u001b[1;33m]\u001b[0m\u001b[1;33m(\u001b[0m\u001b[0mself\u001b[0m\u001b[1;33m.\u001b[0m\u001b[0mf\u001b[0m\u001b[1;33m,\u001b[0m \u001b[1;33m**\u001b[0m\u001b[0mself\u001b[0m\u001b[1;33m.\u001b[0m\u001b[0moptions\u001b[0m\u001b[1;33m)\u001b[0m  \u001b[1;31m# type: ignore[call-arg]\u001b[0m\u001b[1;33m\u001b[0m\u001b[1;33m\u001b[0m\u001b[0m\n\u001b[0m\u001b[0;32m   1041\u001b[0m \u001b[1;33m\u001b[0m\u001b[0m\n\u001b[0;32m   1042\u001b[0m     \u001b[1;32mdef\u001b[0m \u001b[0m_failover_to_python\u001b[0m\u001b[1;33m(\u001b[0m\u001b[0mself\u001b[0m\u001b[1;33m)\u001b[0m\u001b[1;33m:\u001b[0m\u001b[1;33m\u001b[0m\u001b[1;33m\u001b[0m\u001b[0m\n",
      "\u001b[1;32mc:\\Users\\saxen\\anaconda3\\lib\\site-packages\\pandas\\io\\parsers\\c_parser_wrapper.py\u001b[0m in \u001b[0;36m__init__\u001b[1;34m(self, src, **kwds)\u001b[0m\n\u001b[0;32m     49\u001b[0m \u001b[1;33m\u001b[0m\u001b[0m\n\u001b[0;32m     50\u001b[0m         \u001b[1;31m# open handles\u001b[0m\u001b[1;33m\u001b[0m\u001b[1;33m\u001b[0m\u001b[0m\n\u001b[1;32m---> 51\u001b[1;33m         \u001b[0mself\u001b[0m\u001b[1;33m.\u001b[0m\u001b[0m_open_handles\u001b[0m\u001b[1;33m(\u001b[0m\u001b[0msrc\u001b[0m\u001b[1;33m,\u001b[0m \u001b[0mkwds\u001b[0m\u001b[1;33m)\u001b[0m\u001b[1;33m\u001b[0m\u001b[1;33m\u001b[0m\u001b[0m\n\u001b[0m\u001b[0;32m     52\u001b[0m         \u001b[1;32massert\u001b[0m \u001b[0mself\u001b[0m\u001b[1;33m.\u001b[0m\u001b[0mhandles\u001b[0m \u001b[1;32mis\u001b[0m \u001b[1;32mnot\u001b[0m \u001b[1;32mNone\u001b[0m\u001b[1;33m\u001b[0m\u001b[1;33m\u001b[0m\u001b[0m\n\u001b[0;32m     53\u001b[0m \u001b[1;33m\u001b[0m\u001b[0m\n",
      "\u001b[1;32mc:\\Users\\saxen\\anaconda3\\lib\\site-packages\\pandas\\io\\parsers\\base_parser.py\u001b[0m in \u001b[0;36m_open_handles\u001b[1;34m(self, src, kwds)\u001b[0m\n\u001b[0;32m    220\u001b[0m         \u001b[0mLet\u001b[0m \u001b[0mthe\u001b[0m \u001b[0mreaders\u001b[0m \u001b[0mopen\u001b[0m \u001b[0mIOHandles\u001b[0m \u001b[0mafter\u001b[0m \u001b[0mthey\u001b[0m \u001b[0mare\u001b[0m \u001b[0mdone\u001b[0m \u001b[1;32mwith\u001b[0m \u001b[0mtheir\u001b[0m \u001b[0mpotential\u001b[0m \u001b[0mraises\u001b[0m\u001b[1;33m.\u001b[0m\u001b[1;33m\u001b[0m\u001b[1;33m\u001b[0m\u001b[0m\n\u001b[0;32m    221\u001b[0m         \"\"\"\n\u001b[1;32m--> 222\u001b[1;33m         self.handles = get_handle(\n\u001b[0m\u001b[0;32m    223\u001b[0m             \u001b[0msrc\u001b[0m\u001b[1;33m,\u001b[0m\u001b[1;33m\u001b[0m\u001b[1;33m\u001b[0m\u001b[0m\n\u001b[0;32m    224\u001b[0m             \u001b[1;34m\"r\"\u001b[0m\u001b[1;33m,\u001b[0m\u001b[1;33m\u001b[0m\u001b[1;33m\u001b[0m\u001b[0m\n",
      "\u001b[1;32mc:\\Users\\saxen\\anaconda3\\lib\\site-packages\\pandas\\io\\common.py\u001b[0m in \u001b[0;36mget_handle\u001b[1;34m(path_or_buf, mode, encoding, compression, memory_map, is_text, errors, storage_options)\u001b[0m\n\u001b[0;32m    700\u001b[0m         \u001b[1;32mif\u001b[0m \u001b[0mioargs\u001b[0m\u001b[1;33m.\u001b[0m\u001b[0mencoding\u001b[0m \u001b[1;32mand\u001b[0m \u001b[1;34m\"b\"\u001b[0m \u001b[1;32mnot\u001b[0m \u001b[1;32min\u001b[0m \u001b[0mioargs\u001b[0m\u001b[1;33m.\u001b[0m\u001b[0mmode\u001b[0m\u001b[1;33m:\u001b[0m\u001b[1;33m\u001b[0m\u001b[1;33m\u001b[0m\u001b[0m\n\u001b[0;32m    701\u001b[0m             \u001b[1;31m# Encoding\u001b[0m\u001b[1;33m\u001b[0m\u001b[1;33m\u001b[0m\u001b[0m\n\u001b[1;32m--> 702\u001b[1;33m             handle = open(\n\u001b[0m\u001b[0;32m    703\u001b[0m                 \u001b[0mhandle\u001b[0m\u001b[1;33m,\u001b[0m\u001b[1;33m\u001b[0m\u001b[1;33m\u001b[0m\u001b[0m\n\u001b[0;32m    704\u001b[0m                 \u001b[0mioargs\u001b[0m\u001b[1;33m.\u001b[0m\u001b[0mmode\u001b[0m\u001b[1;33m,\u001b[0m\u001b[1;33m\u001b[0m\u001b[1;33m\u001b[0m\u001b[0m\n",
      "\u001b[1;31mFileNotFoundError\u001b[0m: [Errno 2] No such file or directory: 'data/Tweet.csv'"
     ]
    }
   ],
   "source": [
    "tweet = pd.read_csv('data/stock_tweets.csv')\n",
    "tweet.dropna(inplace=True)\n",
    "#delete any missing value within the dataset\n",
    "tweet['Date'] = pd.to_datetime(tweet.get('Date'))\n",
    "#convert the date enteries into standarized form\n",
    "tweet_tesla = tweet[tweet.get('Stock Name')=='TSLA']\n",
    "#reduced the dataset into Tesla only\n",
    "tweet_tesla['Tweet'] = tweet_tesla['Tweet'].str.lower()\n",
    "tweet_tesla = tweet_tesla.drop(\"Company Name\", axis=1) \n",
    "\n",
    "# Read from other dataset, containing tweets for more companies.\n",
    "tweets_multiple = pd.read_csv('data/Tweet.csv')\n",
    "id_to_company = pd.read_csv('data/Company_Tweet.csv')\n",
    "tweets_multiple = tweets_multiple.join(id_to_company.set_index('tweet_id'), on='tweet_id')\n",
    "#delete any missing value within the dataset\n",
    "tweets_multiple.dropna(inplace=True)\n",
    "\n",
    "tweets_multiple = tweets_multiple[['post_date', 'body', 'ticker_symbol']]\n",
    "#drop irrelvant columns\n",
    "\n",
    "tweets_multiple['Date'] = pd.to_datetime(tweets_multiple['post_date'], unit='s').dt.date\n",
    "\n",
    "tweets_multiple = tweets_multiple[['Date', 'body', 'ticker_symbol']]\n",
    "tweets_multiple.columns = ['Date', 'Tweet', 'Stock Name']\n",
    "tweets_multiple = tweets_multiple.sort_values(by=['Stock Name', 'Date'])\n",
    "\n",
    "tweets_multiple = tweets_multiple.reset_index(drop=True)\n",
    "tweets_multiple[\"isStatusChanged\"] = tweets_multiple[\"Stock Name\"].shift(1, fill_value=tweets_multiple[\"Stock Name\"].head(1)) != tweets_multiple[\"Stock Name\"]\n",
    "\n",
    "tweets_multiple.loc[tweets_multiple[\"isStatusChanged\"] == True]\n",
    "\n",
    "apple_tweets = tweets_multiple.iloc[:1414802].drop(columns=['isStatusChanged']).reset_index(drop=True)\n",
    "amazon_tweets = tweets_multiple.iloc[1414802:2123994].drop(columns=['isStatusChanged']).reset_index(drop=True)\n",
    "google_tweets = tweets_multiple.iloc[2123994:2833526].drop(columns=['isStatusChanged']).reset_index(drop=True)\n",
    "microsoft_tweets = tweets_multiple.iloc[2833526:3207324].drop(columns=['isStatusChanged']).reset_index(drop=True)\n",
    "tesla_tweets = tweets_multiple.iloc[3207324:].drop(columns=['isStatusChanged']).reset_index(drop=True)\n",
    "tesla_tweets = pd.concat([tesla_tweets, tweet_tesla], ignore_index=True).sort_values(by=\"Date\")"
   ]
  },
  {
   "cell_type": "code",
   "execution_count": 6,
   "metadata": {},
   "outputs": [],
   "source": [
    "sentiment = SentimentIntensityAnalyzer()\n",
    "\n",
    "datasets = [apple_tweets, amazon_tweets, google_tweets, microsoft_tweets, tesla_tweets]\n",
    "\n",
    "for df in datasets:\n",
    "    #sentiment analysis\n",
    "    df['sentimental score'] = df['Tweet'].apply(sentiment.polarity_scores)\n",
    "\n",
    "    compound_score = []\n",
    "    for score in df['sentimental score']:\n",
    "        compound_score.append(score['compound'])\n",
    "    compound_score\n",
    "\n",
    "    df['sentimental score'] = compound_score\n",
    "\n",
    "apple_tweets = datasets[0]\n",
    "amazon_tweets = datasets[1]\n",
    "google_tweets = datasets[2]\n",
    "microsoft_tweets = datasets[3]\n",
    "tesla_tweets = datasets[4]"
   ]
  },
  {
   "cell_type": "code",
   "execution_count": 7,
   "metadata": {},
   "outputs": [],
   "source": [
    "# Write data to file to avoid reading from large csv every time\n",
    "apple_tweets.to_csv('data/Apple_Tweets.csv', index=False)\n",
    "amazon_tweets.to_csv('data/Amazon_Tweets.csv', index=False)\n",
    "google_tweets.to_csv('data/Google_Tweets.csv', index=False)\n",
    "microsoft_tweets.to_csv('data/Microsoft_Tweets.csv', index=False)\n",
    "tesla_tweets.to_csv('data/Tesla_Tweets.csv', index=False)"
   ]
  },
  {
   "cell_type": "code",
   "execution_count": 14,
   "metadata": {},
   "outputs": [
    {
     "data": {
      "text/html": [
       "<div>\n",
       "<style scoped>\n",
       "    .dataframe tbody tr th:only-of-type {\n",
       "        vertical-align: middle;\n",
       "    }\n",
       "\n",
       "    .dataframe tbody tr th {\n",
       "        vertical-align: top;\n",
       "    }\n",
       "\n",
       "    .dataframe thead th {\n",
       "        text-align: right;\n",
       "    }\n",
       "</style>\n",
       "<table border=\"1\" class=\"dataframe\">\n",
       "  <thead>\n",
       "    <tr style=\"text-align: right;\">\n",
       "      <th></th>\n",
       "      <th>Date</th>\n",
       "      <th>Tweet</th>\n",
       "      <th>Stock Name</th>\n",
       "      <th>sentimental score</th>\n",
       "    </tr>\n",
       "  </thead>\n",
       "  <tbody>\n",
       "    <tr>\n",
       "      <th>0</th>\n",
       "      <td>2015-01-01</td>\n",
       "      <td>S&amp;P100 #Stocks Performance $HD $LOW $SBUX $TGT...</td>\n",
       "      <td>AMZN</td>\n",
       "      <td>-0.4278</td>\n",
       "    </tr>\n",
       "    <tr>\n",
       "      <th>1</th>\n",
       "      <td>2015-01-01</td>\n",
       "      <td>Top 10 searched #stocks of #2014 $AAPL $FB $BA...</td>\n",
       "      <td>AMZN</td>\n",
       "      <td>0.2023</td>\n",
       "    </tr>\n",
       "    <tr>\n",
       "      <th>2</th>\n",
       "      <td>2015-01-01</td>\n",
       "      <td>RT @SeekingAlpha: A Look At BlackBerry's Deals...</td>\n",
       "      <td>AMZN</td>\n",
       "      <td>0.0000</td>\n",
       "    </tr>\n",
       "    <tr>\n",
       "      <th>3</th>\n",
       "      <td>2015-01-01</td>\n",
       "      <td>Jeff Bezos lost $7.4 billion in Amazon's worst...</td>\n",
       "      <td>AMZN</td>\n",
       "      <td>-0.7506</td>\n",
       "    </tr>\n",
       "    <tr>\n",
       "      <th>4</th>\n",
       "      <td>2015-01-01</td>\n",
       "      <td>Jeff Bezos lost $7.4 billion in #Amazon worst ...</td>\n",
       "      <td>AMZN</td>\n",
       "      <td>-0.6908</td>\n",
       "    </tr>\n",
       "    <tr>\n",
       "      <th>...</th>\n",
       "      <td>...</td>\n",
       "      <td>...</td>\n",
       "      <td>...</td>\n",
       "      <td>...</td>\n",
       "    </tr>\n",
       "    <tr>\n",
       "      <th>709187</th>\n",
       "      <td>2019-12-31</td>\n",
       "      <td>$AMZN Amazon Stock Broke Out -- and Hesitated;...</td>\n",
       "      <td>AMZN</td>\n",
       "      <td>-0.5267</td>\n",
       "    </tr>\n",
       "    <tr>\n",
       "      <th>709188</th>\n",
       "      <td>2019-12-31</td>\n",
       "      <td>[Yahoo Finance Video - December 31, 2019] $AMZ...</td>\n",
       "      <td>AMZN</td>\n",
       "      <td>0.3612</td>\n",
       "    </tr>\n",
       "    <tr>\n",
       "      <th>709189</th>\n",
       "      <td>2019-12-31</td>\n",
       "      <td>@Ryzenn $AAPL has to have a lights out ER to k...</td>\n",
       "      <td>AMZN</td>\n",
       "      <td>0.3612</td>\n",
       "    </tr>\n",
       "    <tr>\n",
       "      <th>709190</th>\n",
       "      <td>2019-12-31</td>\n",
       "      <td>Is there a public database or website where I ...</td>\n",
       "      <td>AMZN</td>\n",
       "      <td>0.6908</td>\n",
       "    </tr>\n",
       "    <tr>\n",
       "      <th>709191</th>\n",
       "      <td>2019-12-31</td>\n",
       "      <td>$FB $AMZN $GOOGL $NFLX #FANG 2019</td>\n",
       "      <td>AMZN</td>\n",
       "      <td>0.0000</td>\n",
       "    </tr>\n",
       "  </tbody>\n",
       "</table>\n",
       "<p>709192 rows × 4 columns</p>\n",
       "</div>"
      ],
      "text/plain": [
       "              Date                                              Tweet  \\\n",
       "0       2015-01-01  S&P100 #Stocks Performance $HD $LOW $SBUX $TGT...   \n",
       "1       2015-01-01  Top 10 searched #stocks of #2014 $AAPL $FB $BA...   \n",
       "2       2015-01-01  RT @SeekingAlpha: A Look At BlackBerry's Deals...   \n",
       "3       2015-01-01  Jeff Bezos lost $7.4 billion in Amazon's worst...   \n",
       "4       2015-01-01  Jeff Bezos lost $7.4 billion in #Amazon worst ...   \n",
       "...            ...                                                ...   \n",
       "709187  2019-12-31  $AMZN Amazon Stock Broke Out -- and Hesitated;...   \n",
       "709188  2019-12-31  [Yahoo Finance Video - December 31, 2019] $AMZ...   \n",
       "709189  2019-12-31  @Ryzenn $AAPL has to have a lights out ER to k...   \n",
       "709190  2019-12-31  Is there a public database or website where I ...   \n",
       "709191  2019-12-31                  $FB $AMZN $GOOGL $NFLX #FANG 2019   \n",
       "\n",
       "       Stock Name  sentimental score  \n",
       "0            AMZN            -0.4278  \n",
       "1            AMZN             0.2023  \n",
       "2            AMZN             0.0000  \n",
       "3            AMZN            -0.7506  \n",
       "4            AMZN            -0.6908  \n",
       "...           ...                ...  \n",
       "709187       AMZN            -0.5267  \n",
       "709188       AMZN             0.3612  \n",
       "709189       AMZN             0.3612  \n",
       "709190       AMZN             0.6908  \n",
       "709191       AMZN             0.0000  \n",
       "\n",
       "[709192 rows x 4 columns]"
      ]
     },
     "execution_count": 14,
     "metadata": {},
     "output_type": "execute_result"
    }
   ],
   "source": [
    "#Test\n",
    "amazon_tweets"
   ]
  },
  {
   "cell_type": "markdown",
   "metadata": {},
   "source": [
    "## Dataset #2 Stock Data"
   ]
  },
  {
   "cell_type": "code",
   "execution_count": 157,
   "metadata": {},
   "outputs": [],
   "source": [
    "tesla = pd.read_csv('data/TESLA_HISTORICAL.csv')\n",
    "apple = pd.read_csv('data/APPLE_HISTORICAL.csv')\n",
    "amazon = pd.read_csv('data/AMAZON_HISTORICAL.csv')\n",
    "microsoft = pd.read_csv('data/MICROSOFT_HISTORICAL.csv')\n",
    "googl = pd.read_csv('data/GOOGL_HISTORICAL.csv')\n",
    "goog = pd.read_csv('data/GOOG_HISTORICAL.csv')\n",
    "\n",
    "stocks = [tesla, apple, amazon, microsoft, goog, googl]\n",
    "\n",
    "for i in range(len(stocks)):\n",
    "    stocks[i].dropna(inplace=True)\n",
    "    #delete any missing value within the dataset\n",
    "    stocks[i]['Date'] = pd.to_datetime(stocks[i].get('Date')).dt.date\n",
    "    #convert the date enteries into standarized form\n",
    "    def nodollartofloat(series):\n",
    "        series = series.str.strip('$')\n",
    "        blank = []\n",
    "        for i in series:\n",
    "            i = float(i)\n",
    "            blank = np.append(blank,i)\n",
    "        return blank\n",
    "    stocks[i]['End Day Price'] = nodollartofloat(stocks[i]['Close/Last'])\n",
    "    stocks[i]['Beginning Day Price'] = nodollartofloat(stocks[i]['Open'])\n",
    "    stocks[i]['Highest Price'] = nodollartofloat(stocks[i]['High'])\n",
    "    stocks[i]['Lowest Price'] = nodollartofloat(stocks[i]['Low'])\n",
    "    stocks[i] = stocks[i].drop(['Close/Last','Volume','Open','High','Low'], axis=1)\n",
    "    #convert all string input into number\n",
    "\n",
    "    start_date = pd.to_datetime('2015-01-01').date()\n",
    "    end_date = pd.to_datetime('2022-09-29').date()\n",
    "\n",
    "    stocks[i] = stocks[i][(stocks[i]['Date'] >= start_date) & (stocks[i]['Date'] <= end_date)]\n",
    "    stocks[i].reset_index(drop=True, inplace=True)\n",
    "    stocks[i][\"Raw Change in Price\"] = stocks[i][\"End Day Price\"] - stocks[i][\"Beginning Day Price\"]\n",
    "    stocks[i][\"% Change in Price\"] = (stocks[i][\"End Day Price\"] - stocks[i][\"Beginning Day Price\"])/stocks[i][\"Beginning Day Price\"]\n",
    "    stocks[i]['Date'] = pd.to_datetime(stocks[i]['Date'])\n",
    "\n",
    "tesla =  stocks[0]\n",
    "apple = stocks[1]\n",
    "amazon = stocks[2]\n",
    "microsoft= stocks[3]\n",
    "goog = stocks[4]\n",
    "googl = stocks[5]"
   ]
  },
  {
   "cell_type": "markdown",
   "metadata": {},
   "source": [
    "# Results\n",
    "\n",
    "## Exploratory Data Analysis\n",
    "\n",
    "Carry out whatever EDA you need to for your project.  Because every project will be different we can't really give you much of a template at this point. But please make sure you describe the what and why in text here as well as providing interpretation of results and context."
   ]
  },
  {
   "cell_type": "code",
   "execution_count": 133,
   "metadata": {},
   "outputs": [
    {
     "data": {
      "text/html": [
       "<div>\n",
       "<style scoped>\n",
       "    .dataframe tbody tr th:only-of-type {\n",
       "        vertical-align: middle;\n",
       "    }\n",
       "\n",
       "    .dataframe tbody tr th {\n",
       "        vertical-align: top;\n",
       "    }\n",
       "\n",
       "    .dataframe thead th {\n",
       "        text-align: right;\n",
       "    }\n",
       "</style>\n",
       "<table border=\"1\" class=\"dataframe\">\n",
       "  <thead>\n",
       "    <tr style=\"text-align: right;\">\n",
       "      <th></th>\n",
       "      <th>Date</th>\n",
       "      <th>Tweet</th>\n",
       "      <th>Stock Name</th>\n",
       "      <th>sentimental score</th>\n",
       "    </tr>\n",
       "  </thead>\n",
       "  <tbody>\n",
       "  </tbody>\n",
       "</table>\n",
       "</div>"
      ],
      "text/plain": [
       "Empty DataFrame\n",
       "Columns: [Date, Tweet, Stock Name, sentimental score]\n",
       "Index: []"
      ]
     },
     "execution_count": 133,
     "metadata": {},
     "output_type": "execute_result"
    }
   ],
   "source": [
    "currdate = datetime.date(2015, 1, 1)\n",
    "currdate = currdate + datetime.timedelta(days=1)\n",
    "apple_tweets.loc[apple_tweets[\"Date\"] == currdate]\n"
   ]
  },
  {
   "cell_type": "markdown",
   "metadata": {},
   "source": [
    "## First Analysis You Did - Linear\n",
    "\n",
    "Some more words and stuff.  Remember notebooks work best if you interleave the code that generates a result with properly annotate figures and text that puts these results into context."
   ]
  },
  {
   "cell_type": "code",
   "execution_count": 4,
   "metadata": {},
   "outputs": [],
   "source": [
    "apple_tweets = pd.read_csv('data/Apple_Tweets.csv')\n",
    "amazon_tweets = pd.read_csv('data/Amazon_Tweets.csv')\n",
    "google_tweets = pd.read_csv('data/Google_Tweets.csv')\n",
    "microsoft_tweets = pd.read_csv('data/Microsoft_Tweets.csv')\n",
    "tesla_tweets = pd.read_csv('data/Tesla_Tweets.csv')"
   ]
  },
  {
   "cell_type": "code",
   "execution_count": 158,
   "metadata": {},
   "outputs": [
    {
     "data": {
      "text/html": [
       "<div>\n",
       "<style scoped>\n",
       "    .dataframe tbody tr th:only-of-type {\n",
       "        vertical-align: middle;\n",
       "    }\n",
       "\n",
       "    .dataframe tbody tr th {\n",
       "        vertical-align: top;\n",
       "    }\n",
       "\n",
       "    .dataframe thead th {\n",
       "        text-align: right;\n",
       "    }\n",
       "</style>\n",
       "<table border=\"1\" class=\"dataframe\">\n",
       "  <thead>\n",
       "    <tr style=\"text-align: right;\">\n",
       "      <th></th>\n",
       "      <th>Date</th>\n",
       "      <th>End Day Price</th>\n",
       "      <th>Beginning Day Price</th>\n",
       "      <th>Highest Price</th>\n",
       "      <th>Lowest Price</th>\n",
       "      <th>Raw Change in Price</th>\n",
       "      <th>% Change in Price</th>\n",
       "      <th>sentimental score</th>\n",
       "    </tr>\n",
       "  </thead>\n",
       "  <tbody>\n",
       "    <tr>\n",
       "      <th>0</th>\n",
       "      <td>2022-09-29</td>\n",
       "      <td>268.2100</td>\n",
       "      <td>282.7600</td>\n",
       "      <td>283.6500</td>\n",
       "      <td>265.7800</td>\n",
       "      <td>-14.5500</td>\n",
       "      <td>-0.051457</td>\n",
       "      <td>0.055609</td>\n",
       "    </tr>\n",
       "    <tr>\n",
       "      <th>1</th>\n",
       "      <td>2022-09-28</td>\n",
       "      <td>287.8100</td>\n",
       "      <td>283.0800</td>\n",
       "      <td>289.0000</td>\n",
       "      <td>277.5700</td>\n",
       "      <td>4.7300</td>\n",
       "      <td>0.016709</td>\n",
       "      <td>0.127481</td>\n",
       "    </tr>\n",
       "    <tr>\n",
       "      <th>2</th>\n",
       "      <td>2022-09-27</td>\n",
       "      <td>282.9400</td>\n",
       "      <td>283.8400</td>\n",
       "      <td>288.6700</td>\n",
       "      <td>277.5100</td>\n",
       "      <td>-0.9000</td>\n",
       "      <td>-0.003171</td>\n",
       "      <td>0.225460</td>\n",
       "    </tr>\n",
       "    <tr>\n",
       "      <th>3</th>\n",
       "      <td>2022-09-26</td>\n",
       "      <td>276.0100</td>\n",
       "      <td>271.8300</td>\n",
       "      <td>284.0900</td>\n",
       "      <td>270.3100</td>\n",
       "      <td>4.1800</td>\n",
       "      <td>0.015377</td>\n",
       "      <td>0.116844</td>\n",
       "    </tr>\n",
       "    <tr>\n",
       "      <th>4</th>\n",
       "      <td>2022-09-23</td>\n",
       "      <td>275.3300</td>\n",
       "      <td>283.0900</td>\n",
       "      <td>284.5000</td>\n",
       "      <td>272.8200</td>\n",
       "      <td>-7.7600</td>\n",
       "      <td>-0.027412</td>\n",
       "      <td>0.150950</td>\n",
       "    </tr>\n",
       "    <tr>\n",
       "      <th>...</th>\n",
       "      <td>...</td>\n",
       "      <td>...</td>\n",
       "      <td>...</td>\n",
       "      <td>...</td>\n",
       "      <td>...</td>\n",
       "      <td>...</td>\n",
       "      <td>...</td>\n",
       "      <td>...</td>\n",
       "    </tr>\n",
       "    <tr>\n",
       "      <th>1505</th>\n",
       "      <td>2015-01-08</td>\n",
       "      <td>14.0410</td>\n",
       "      <td>14.1873</td>\n",
       "      <td>14.2533</td>\n",
       "      <td>14.0007</td>\n",
       "      <td>-0.1463</td>\n",
       "      <td>-0.010312</td>\n",
       "      <td>0.156723</td>\n",
       "    </tr>\n",
       "    <tr>\n",
       "      <th>1506</th>\n",
       "      <td>2015-01-07</td>\n",
       "      <td>14.0633</td>\n",
       "      <td>14.2233</td>\n",
       "      <td>14.3187</td>\n",
       "      <td>13.9853</td>\n",
       "      <td>-0.1600</td>\n",
       "      <td>-0.011249</td>\n",
       "      <td>0.129258</td>\n",
       "    </tr>\n",
       "    <tr>\n",
       "      <th>1507</th>\n",
       "      <td>2015-01-06</td>\n",
       "      <td>14.0853</td>\n",
       "      <td>14.0040</td>\n",
       "      <td>14.2800</td>\n",
       "      <td>13.6140</td>\n",
       "      <td>0.0813</td>\n",
       "      <td>0.005805</td>\n",
       "      <td>0.106181</td>\n",
       "    </tr>\n",
       "    <tr>\n",
       "      <th>1508</th>\n",
       "      <td>2015-01-05</td>\n",
       "      <td>14.0060</td>\n",
       "      <td>14.3033</td>\n",
       "      <td>14.4333</td>\n",
       "      <td>13.8108</td>\n",
       "      <td>-0.2973</td>\n",
       "      <td>-0.020785</td>\n",
       "      <td>0.170239</td>\n",
       "    </tr>\n",
       "    <tr>\n",
       "      <th>1509</th>\n",
       "      <td>2015-01-02</td>\n",
       "      <td>14.6207</td>\n",
       "      <td>14.8580</td>\n",
       "      <td>14.8833</td>\n",
       "      <td>14.2173</td>\n",
       "      <td>-0.2373</td>\n",
       "      <td>-0.015971</td>\n",
       "      <td>0.125021</td>\n",
       "    </tr>\n",
       "  </tbody>\n",
       "</table>\n",
       "<p>1510 rows × 8 columns</p>\n",
       "</div>"
      ],
      "text/plain": [
       "           Date  End Day Price  Beginning Day Price  Highest Price  \\\n",
       "0    2022-09-29       268.2100             282.7600       283.6500   \n",
       "1    2022-09-28       287.8100             283.0800       289.0000   \n",
       "2    2022-09-27       282.9400             283.8400       288.6700   \n",
       "3    2022-09-26       276.0100             271.8300       284.0900   \n",
       "4    2022-09-23       275.3300             283.0900       284.5000   \n",
       "...         ...            ...                  ...            ...   \n",
       "1505 2015-01-08        14.0410              14.1873        14.2533   \n",
       "1506 2015-01-07        14.0633              14.2233        14.3187   \n",
       "1507 2015-01-06        14.0853              14.0040        14.2800   \n",
       "1508 2015-01-05        14.0060              14.3033        14.4333   \n",
       "1509 2015-01-02        14.6207              14.8580        14.8833   \n",
       "\n",
       "      Lowest Price  Raw Change in Price  % Change in Price  sentimental score  \n",
       "0         265.7800             -14.5500          -0.051457           0.055609  \n",
       "1         277.5700               4.7300           0.016709           0.127481  \n",
       "2         277.5100              -0.9000          -0.003171           0.225460  \n",
       "3         270.3100               4.1800           0.015377           0.116844  \n",
       "4         272.8200              -7.7600          -0.027412           0.150950  \n",
       "...            ...                  ...                ...                ...  \n",
       "1505       14.0007              -0.1463          -0.010312           0.156723  \n",
       "1506       13.9853              -0.1600          -0.011249           0.129258  \n",
       "1507       13.6140               0.0813           0.005805           0.106181  \n",
       "1508       13.8108              -0.2973          -0.020785           0.170239  \n",
       "1509       14.2173              -0.2373          -0.015971           0.125021  \n",
       "\n",
       "[1510 rows x 8 columns]"
      ]
     },
     "execution_count": 158,
     "metadata": {},
     "output_type": "execute_result"
    }
   ],
   "source": [
    "#tesla_combined = pd.merge(tesla_tweets.groupby(\"Date\").mean().reset_index(), tesla, on=\"Date\", how=\"inner\")\n",
    "tesla_tweets[\"Date\"] = pd.to_datetime(tesla_tweets[\"Date\"])\n",
    "tesla_means = tesla_tweets.groupby(\"Date\").mean().reset_index()\n",
    "\n",
    "tesla_combined = pd.merge(tesla, tesla_means, on=\"Date\", how=\"inner\")\n",
    "tesla_combined"
   ]
  },
  {
   "cell_type": "code",
   "execution_count": 159,
   "metadata": {},
   "outputs": [],
   "source": [
    "# isolating positive and negative, comparing counts\n",
    "threshold = 0.6\n",
    "tesla_tweets_pos = tesla_tweets[tesla_tweets[\"sentimental score\"] > threshold].groupby(\"Date\").count().reset_index()\n",
    "tesla_tweets_pos[\"Positive\"] = tesla_tweets_pos[\"sentimental score\"]\n",
    "tesla_tweets_neg = tesla_tweets[tesla_tweets[\"sentimental score\"] < threshold*-1].groupby(\"Date\").count().reset_index()\n",
    "tesla_tweets_neg[\"Negative\"] = tesla_tweets_pos[\"sentimental score\"]\n",
    "tesla_tweets_counts = pd.merge(tesla_tweets_neg, tesla_tweets_pos, how=\"inner\", on=\"Date\")\n",
    "tesla_counts_combined = pd.merge(tesla, tesla_tweets_counts, on=\"Date\", how=\"inner\")\n",
    "tesla_counts_combined = tesla_counts_combined.drop([\"Tweet_x\", \"Stock Name_x\", \"sentimental score_x\", \"Tweet_y\", \"Stock Name_y\", \"sentimental score_y\"], axis=1)\n",
    "tesla_counts_combined[\"Diff\"] = tesla_counts_combined[\"Positive\"] - tesla_counts_combined[\"Negative\"]\n",
    "\n"
   ]
  },
  {
   "cell_type": "code",
   "execution_count": 160,
   "metadata": {},
   "outputs": [
    {
     "data": {
      "text/html": [
       "<div>\n",
       "<style scoped>\n",
       "    .dataframe tbody tr th:only-of-type {\n",
       "        vertical-align: middle;\n",
       "    }\n",
       "\n",
       "    .dataframe tbody tr th {\n",
       "        vertical-align: top;\n",
       "    }\n",
       "\n",
       "    .dataframe thead th {\n",
       "        text-align: right;\n",
       "    }\n",
       "</style>\n",
       "<table border=\"1\" class=\"dataframe\">\n",
       "  <thead>\n",
       "    <tr style=\"text-align: right;\">\n",
       "      <th></th>\n",
       "      <th>month</th>\n",
       "      <th>End Day Price</th>\n",
       "      <th>Beginning Day Price</th>\n",
       "      <th>Highest Price</th>\n",
       "      <th>Lowest Price</th>\n",
       "      <th>Raw Change in Price</th>\n",
       "      <th>% Change in Price</th>\n",
       "      <th>sentimental score</th>\n",
       "    </tr>\n",
       "  </thead>\n",
       "  <tbody>\n",
       "    <tr>\n",
       "      <th>0</th>\n",
       "      <td>2015-01</td>\n",
       "      <td>13.550340</td>\n",
       "      <td>13.526835</td>\n",
       "      <td>13.753455</td>\n",
       "      <td>13.288465</td>\n",
       "      <td>0.023505</td>\n",
       "      <td>0.002276</td>\n",
       "      <td>0.109597</td>\n",
       "    </tr>\n",
       "    <tr>\n",
       "      <th>1</th>\n",
       "      <td>2015-02</td>\n",
       "      <td>14.044847</td>\n",
       "      <td>13.976879</td>\n",
       "      <td>14.242484</td>\n",
       "      <td>13.786858</td>\n",
       "      <td>0.067968</td>\n",
       "      <td>0.005214</td>\n",
       "      <td>0.090190</td>\n",
       "    </tr>\n",
       "    <tr>\n",
       "      <th>2</th>\n",
       "      <td>2015-03</td>\n",
       "      <td>12.981168</td>\n",
       "      <td>13.030545</td>\n",
       "      <td>13.198368</td>\n",
       "      <td>12.796418</td>\n",
       "      <td>-0.049377</td>\n",
       "      <td>-0.003623</td>\n",
       "      <td>0.090119</td>\n",
       "    </tr>\n",
       "    <tr>\n",
       "      <th>3</th>\n",
       "      <td>2015-04</td>\n",
       "      <td>14.107414</td>\n",
       "      <td>14.052938</td>\n",
       "      <td>14.299248</td>\n",
       "      <td>13.918924</td>\n",
       "      <td>0.054476</td>\n",
       "      <td>0.004005</td>\n",
       "      <td>0.107396</td>\n",
       "    </tr>\n",
       "    <tr>\n",
       "      <th>4</th>\n",
       "      <td>2015-05</td>\n",
       "      <td>16.148010</td>\n",
       "      <td>16.083065</td>\n",
       "      <td>16.327355</td>\n",
       "      <td>15.885715</td>\n",
       "      <td>0.064945</td>\n",
       "      <td>0.004313</td>\n",
       "      <td>0.091855</td>\n",
       "    </tr>\n",
       "    <tr>\n",
       "      <th>...</th>\n",
       "      <td>...</td>\n",
       "      <td>...</td>\n",
       "      <td>...</td>\n",
       "      <td>...</td>\n",
       "      <td>...</td>\n",
       "      <td>...</td>\n",
       "      <td>...</td>\n",
       "      <td>...</td>\n",
       "    </tr>\n",
       "    <tr>\n",
       "      <th>68</th>\n",
       "      <td>2022-05</td>\n",
       "      <td>255.223310</td>\n",
       "      <td>256.988538</td>\n",
       "      <td>264.414200</td>\n",
       "      <td>246.075990</td>\n",
       "      <td>-1.765229</td>\n",
       "      <td>-0.005370</td>\n",
       "      <td>0.131596</td>\n",
       "    </tr>\n",
       "    <tr>\n",
       "      <th>69</th>\n",
       "      <td>2022-06</td>\n",
       "      <td>234.025843</td>\n",
       "      <td>234.472267</td>\n",
       "      <td>241.544410</td>\n",
       "      <td>228.351071</td>\n",
       "      <td>-0.446424</td>\n",
       "      <td>-0.001404</td>\n",
       "      <td>0.152079</td>\n",
       "    </tr>\n",
       "    <tr>\n",
       "      <th>70</th>\n",
       "      <td>2022-07</td>\n",
       "      <td>251.394640</td>\n",
       "      <td>248.886640</td>\n",
       "      <td>255.841485</td>\n",
       "      <td>243.754615</td>\n",
       "      <td>2.508000</td>\n",
       "      <td>0.010438</td>\n",
       "      <td>0.154902</td>\n",
       "    </tr>\n",
       "    <tr>\n",
       "      <th>71</th>\n",
       "      <td>2022-08</td>\n",
       "      <td>294.869826</td>\n",
       "      <td>297.222661</td>\n",
       "      <td>301.852070</td>\n",
       "      <td>290.238535</td>\n",
       "      <td>-2.352835</td>\n",
       "      <td>-0.007864</td>\n",
       "      <td>0.173647</td>\n",
       "    </tr>\n",
       "    <tr>\n",
       "      <th>72</th>\n",
       "      <td>2022-09</td>\n",
       "      <td>289.909000</td>\n",
       "      <td>288.971250</td>\n",
       "      <td>294.949995</td>\n",
       "      <td>283.841510</td>\n",
       "      <td>0.937750</td>\n",
       "      <td>0.003362</td>\n",
       "      <td>0.161832</td>\n",
       "    </tr>\n",
       "  </tbody>\n",
       "</table>\n",
       "<p>73 rows × 8 columns</p>\n",
       "</div>"
      ],
      "text/plain": [
       "      month  End Day Price  Beginning Day Price  Highest Price  Lowest Price  \\\n",
       "0   2015-01      13.550340            13.526835      13.753455     13.288465   \n",
       "1   2015-02      14.044847            13.976879      14.242484     13.786858   \n",
       "2   2015-03      12.981168            13.030545      13.198368     12.796418   \n",
       "3   2015-04      14.107414            14.052938      14.299248     13.918924   \n",
       "4   2015-05      16.148010            16.083065      16.327355     15.885715   \n",
       "..      ...            ...                  ...            ...           ...   \n",
       "68  2022-05     255.223310           256.988538     264.414200    246.075990   \n",
       "69  2022-06     234.025843           234.472267     241.544410    228.351071   \n",
       "70  2022-07     251.394640           248.886640     255.841485    243.754615   \n",
       "71  2022-08     294.869826           297.222661     301.852070    290.238535   \n",
       "72  2022-09     289.909000           288.971250     294.949995    283.841510   \n",
       "\n",
       "    Raw Change in Price  % Change in Price  sentimental score  \n",
       "0              0.023505           0.002276           0.109597  \n",
       "1              0.067968           0.005214           0.090190  \n",
       "2             -0.049377          -0.003623           0.090119  \n",
       "3              0.054476           0.004005           0.107396  \n",
       "4              0.064945           0.004313           0.091855  \n",
       "..                  ...                ...                ...  \n",
       "68            -1.765229          -0.005370           0.131596  \n",
       "69            -0.446424          -0.001404           0.152079  \n",
       "70             2.508000           0.010438           0.154902  \n",
       "71            -2.352835          -0.007864           0.173647  \n",
       "72             0.937750           0.003362           0.161832  \n",
       "\n",
       "[73 rows x 8 columns]"
      ]
     },
     "execution_count": 160,
     "metadata": {},
     "output_type": "execute_result"
    }
   ],
   "source": [
    "# group by month, merge into one df\n",
    "tesla_tweets['month'] = tesla_tweets['Date'].dt.to_period('M').astype(str)\n",
    "tesla_month_means = tesla_tweets.groupby('month').mean().reset_index()\n",
    "\n",
    "tesla[\"month\"] = tesla['Date'].dt.to_period('M').astype(str)\n",
    "tesla_stock_means = tesla.groupby('month').mean().reset_index()\n",
    "\n",
    "tesla_month_combined = pd.merge(tesla_stock_means, tesla_month_means, on=\"month\", how=\"inner\")\n",
    "tesla_month_combined"
   ]
  },
  {
   "cell_type": "code",
   "execution_count": 161,
   "metadata": {},
   "outputs": [
    {
     "name": "stderr",
     "output_type": "stream",
     "text": [
      "c:\\Users\\saxen\\anaconda3\\lib\\site-packages\\seaborn\\_decorators.py:36: FutureWarning: Pass the following variables as keyword args: x, y. From version 0.12, the only valid positional argument will be `data`, and passing other arguments without an explicit keyword will result in an error or misinterpretation.\n",
      "  warnings.warn(\n"
     ]
    },
    {
     "data": {
      "text/plain": [
       "<AxesSubplot:xlabel='sentimental score', ylabel='Raw Change in Price'>"
      ]
     },
     "execution_count": 161,
     "metadata": {},
     "output_type": "execute_result"
    },
    {
     "data": {
      "image/png": "[encoded data removed]",
      "text/plain": [
       "<Figure size 432x288 with 1 Axes>"
      ]
     },
     "metadata": {
      "needs_background": "light"
     },
     "output_type": "display_data"
    }
   ],
   "source": [
    "sns.scatterplot(tesla_month_combined[\"sentimental score\"], tesla_month_combined[\"Raw Change in Price\"])"
   ]
  },
  {
   "cell_type": "code",
   "execution_count": 155,
   "metadata": {},
   "outputs": [
    {
     "name": "stderr",
     "output_type": "stream",
     "text": [
      "c:\\Users\\saxen\\anaconda3\\lib\\site-packages\\seaborn\\_decorators.py:36: FutureWarning: Pass the following variables as keyword args: x, y. From version 0.12, the only valid positional argument will be `data`, and passing other arguments without an explicit keyword will result in an error or misinterpretation.\n",
      "  warnings.warn(\n"
     ]
    },
    {
     "data": {
      "text/plain": [
       "<AxesSubplot:xlabel='Diff', ylabel='Raw Change in Price'>"
      ]
     },
     "execution_count": 155,
     "metadata": {},
     "output_type": "execute_result"
    },
    {
     "data": {
      "image/png": "[encoded data removed]",
      "text/plain": [
       "<Figure size 432x288 with 1 Axes>"
      ]
     },
     "metadata": {
      "needs_background": "light"
     },
     "output_type": "display_data"
    }
   ],
   "source": [
    "sns.scatterplot(tesla_counts_combined[\"Diff\"], tesla_counts_combined[\"Raw Change in Price\"])"
   ]
  },
  {
   "cell_type": "code",
   "execution_count": 121,
   "metadata": {},
   "outputs": [
    {
     "name": "stderr",
     "output_type": "stream",
     "text": [
      "c:\\Users\\saxen\\anaconda3\\lib\\site-packages\\seaborn\\_decorators.py:36: FutureWarning: Pass the following variables as keyword args: x, y. From version 0.12, the only valid positional argument will be `data`, and passing other arguments without an explicit keyword will result in an error or misinterpretation.\n",
      "  warnings.warn(\n",
      "c:\\Users\\saxen\\anaconda3\\lib\\site-packages\\seaborn\\_decorators.py:36: FutureWarning: Pass the following variables as keyword args: x, y. From version 0.12, the only valid positional argument will be `data`, and passing other arguments without an explicit keyword will result in an error or misinterpretation.\n",
      "  warnings.warn(\n"
     ]
    },
    {
     "data": {
      "text/plain": [
       "<AxesSubplot:xlabel='Date', ylabel='End Day Price'>"
      ]
     },
     "execution_count": 121,
     "metadata": {},
     "output_type": "execute_result"
    },
    {
     "data": {
      "image/png": "[encoded data removed]",
      "text/plain": [
       "<Figure size 432x288 with 1 Axes>"
      ]
     },
     "metadata": {
      "needs_background": "light"
     },
     "output_type": "display_data"
    }
   ],
   "source": [
    "sns.lineplot(tesla[\"Date\"], tesla[\"End Day Price\"])\n",
    "sns.lineplot(tesla_means[\"Date\"], tesla_means[\"sentimental score\"]*1000)"
   ]
  },
  {
   "cell_type": "code",
   "execution_count": 142,
   "metadata": {},
   "outputs": [
    {
     "data": {
      "text/html": [
       "<div>\n",
       "<style scoped>\n",
       "    .dataframe tbody tr th:only-of-type {\n",
       "        vertical-align: middle;\n",
       "    }\n",
       "\n",
       "    .dataframe tbody tr th {\n",
       "        vertical-align: top;\n",
       "    }\n",
       "\n",
       "    .dataframe thead th {\n",
       "        text-align: right;\n",
       "    }\n",
       "</style>\n",
       "<table border=\"1\" class=\"dataframe\">\n",
       "  <thead>\n",
       "    <tr style=\"text-align: right;\">\n",
       "      <th></th>\n",
       "      <th>Date</th>\n",
       "      <th>End Day Price</th>\n",
       "      <th>Beginning Day Price</th>\n",
       "      <th>Highest Price</th>\n",
       "      <th>Lowest Price</th>\n",
       "      <th>Raw Change in Price</th>\n",
       "      <th>% Change in Price</th>\n",
       "      <th>sentimental score</th>\n",
       "    </tr>\n",
       "  </thead>\n",
       "  <tbody>\n",
       "  </tbody>\n",
       "</table>\n",
       "</div>"
      ],
      "text/plain": [
       "Empty DataFrame\n",
       "Columns: [Date, End Day Price, Beginning Day Price, Highest Price, Lowest Price, Raw Change in Price, % Change in Price, sentimental score]\n",
       "Index: []"
      ]
     },
     "execution_count": 142,
     "metadata": {},
     "output_type": "execute_result"
    }
   ],
   "source": []
  },
  {
   "cell_type": "markdown",
   "metadata": {},
   "source": [
    "## Second Analysis You Did - Give it a better title\n",
    "\n",
    "Some more words and stuff.  Remember notebooks work best if you interleave the code that generates a result with properly annotate figures and text that puts these results into context."
   ]
  },
  {
   "cell_type": "code",
   "execution_count": null,
   "metadata": {},
   "outputs": [],
   "source": [
    "## YOUR CODE HERE\n",
    "## FEEL FREE TO ADD MULTIPLE CELLS PER SECTION"
   ]
  },
  {
   "cell_type": "markdown",
   "metadata": {},
   "source": [
    "## ETC AD NASEUM\n",
    "\n",
    "Some more words and stuff.  Remember notebooks work best if you interleave the code that generates a result with properly annotate figures and text that puts these results into context."
   ]
  },
  {
   "cell_type": "code",
   "execution_count": null,
   "metadata": {},
   "outputs": [],
   "source": [
    "## YOUR CODE HERE\n",
    "## FEEL FREE TO ADD MULTIPLE CELLS PER SECTION"
   ]
  },
  {
   "cell_type": "markdown",
   "metadata": {},
   "source": [
    "# Ethics & Privacy"
   ]
  },
  {
   "cell_type": "markdown",
   "metadata": {},
   "source": [
    "- Thoughtful discussion of ethical concerns included\n",
    "- Ethical concerns consider the whole data science process (question asked, data collected, data being used, the bias in data, analysis, post-analysis, etc.)\n",
    "- How your group handled bias/ethical concerns clearly described\n",
    "\n",
    "Acknowledge and address any ethics & privacy related issues of your question(s), proposed dataset(s), and/or analyses. Use the information provided in lecture to guide your group discussion and thinking. If you need further guidance, check out [Deon's Ethics Checklist](http://deon.drivendata.org/#data-science-ethics-checklist). In particular:\n",
    "\n",
    "- Are there any biases/privacy/terms of use issues with the data you propsed?\n",
    "- Are there potential biases in your dataset(s), in terms of who it composes, and how it was collected, that may be problematic in terms of it allowing for equitable analysis? (For example, does your data exclude particular populations, or is it likely to reflect particular human biases in a way that could be a problem?)\n",
    "- How will you set out to detect these specific biases before, during, and after/when communicating your analysis?\n",
    "- Are there any other issues related to your topic area, data, and/or analyses that are potentially problematic in terms of data privacy and equitable impact?\n",
    "- How will you handle issues you identified?"
   ]
  },
  {
   "cell_type": "markdown",
   "metadata": {},
   "source": [
    "# Discusison and Conclusion\n",
    "\n",
    "Wrap it all up here.  Somewhere between 3 and 10 paragraphs roughly.  A good time to refer back to your Background section and review how this work extended the previous stuff. \n",
    "\n",
    "\n",
    "# Team Contributions\n",
    "\n",
    "Speficy who did what.  This should be pretty granular, perhaps bullet points, no more than a few sentences per person."
   ]
  }
 ],
 "metadata": {
  "kernelspec": {
   "display_name": "Python 3 (ipykernel)",
   "language": "python",
   "name": "python3"
  },
  "language_info": {
   "codemirror_mode": {
    "name": "ipython",
    "version": 3
   },
   "file_extension": ".py",
   "mimetype": "text/x-python",
   "name": "python",
   "nbconvert_exporter": "python",
   "pygments_lexer": "ipython3",
   "version": "3.9.7"
  }
 },
 "nbformat": 4,
 "nbformat_minor": 2
}
